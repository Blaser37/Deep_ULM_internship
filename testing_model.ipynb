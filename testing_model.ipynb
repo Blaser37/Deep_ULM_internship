{
 "cells": [
  {
   "cell_type": "code",
   "execution_count": 2,
   "id": "b8ffaeff",
   "metadata": {},
   "outputs": [],
   "source": [
    "from __future__ import print_function\n",
    "import argparse\n",
    "import math\n",
    "from math import log10\n",
    "import torch\n",
    "import torch.nn as nn\n",
    "import torch.optim as optim\n",
    "from torch.autograd import Variable\n",
    "from torch.utils.data import DataLoader\n",
    "from torch.utils.data import SubsetRandomSampler\n",
    "from dataset import get_training_set, get_test_set\n",
    "from tiles import tile, untile\n",
    "import torch.nn.functional as F\n",
    "import torchvision.transforms as transforms\n",
    "import numpy as np\n",
    "import time\n",
    "import os\n",
    "import matplotlib.pyplot as plt\n",
    "from bmode_visu import bmode_visu\n",
    "import skimage\n",
    "from skimage.feature import peak_local_max\n",
    "import seaborn as sns\n",
    "from scipy.spatial import distance\n",
    "import pandas as pd"
   ]
  },
  {
   "cell_type": "code",
   "execution_count": 3,
   "id": "69697e86",
   "metadata": {
    "scrolled": true
   },
   "outputs": [
    {
     "data": {
      "text/html": [
       "<style>.container { width:100% !important; }</style>"
      ],
      "text/plain": [
       "<IPython.core.display.HTML object>"
      ]
     },
     "metadata": {},
     "output_type": "display_data"
    }
   ],
   "source": [
    "os.environ[\"CUDA_VISIBLE_DEVICES\"] = \"0\"\n",
    "from IPython.core.display import display, HTML\n",
    "display(HTML(\"<style>.container { width:100% !important; }</style>\")) # Have bigger cells in Jupyter Notebook "
   ]
  },
  {
   "cell_type": "code",
   "execution_count": 4,
   "id": "b6cfac42",
   "metadata": {},
   "outputs": [],
   "source": [
    "# Settings and hyperparameters\n",
    "threads = 0\n",
    "seed = 123"
   ]
  },
  {
   "cell_type": "code",
   "execution_count": 5,
   "id": "89df127d",
   "metadata": {},
   "outputs": [],
   "source": [
    "# Check for cuda\n",
    "if torch.cuda.is_available():\n",
    "    device = torch.device(\"cuda\")\n",
    "    torch.cuda.manual_seed(seed)\n",
    "else:\n",
    "    device = torch.device(\"cpu\")"
   ]
  },
  {
   "cell_type": "code",
   "execution_count": 5,
   "id": "4bb1f29e",
   "metadata": {},
   "outputs": [],
   "source": [
    "# # Test to normalize the data (not successful)\n",
    "# # 0.1171 - 0.2253 07_noisy / \n",
    "\n",
    "# transform = transforms.Compose([\n",
    "#     transforms.Normalize(0.1171, 0.2253)\n",
    "# ])\n",
    "# target_transform = transforms.Compose([\n",
    "#     transforms.Normalize(0.1171, 0.2253)\n",
    "# ])"
   ]
  },
  {
   "cell_type": "markdown",
   "id": "42f4fbfa",
   "metadata": {},
   "source": [
    "# Data test selection"
   ]
  },
  {
   "cell_type": "code",
   "execution_count": 5,
   "id": "be1e75f5",
   "metadata": {},
   "outputs": [],
   "source": [
    "# Load the test set\n",
    "# root = '../testing_set_numpy/eval_set_numpy_noisy/eval_set_32x32_batch_20/'\n",
    "root = '../testing_set_numpy/testing_perf/eval_set_32x32_batch_30/'\n",
    "test_set = get_test_set(transform=None, target_transform=None, root = root)\n",
    "testing_data_loader = DataLoader(dataset=test_set, num_workers=threads, shuffle=False)"
   ]
  },
  {
   "cell_type": "markdown",
   "id": "b74c7440",
   "metadata": {},
   "source": [
    "# Model selection"
   ]
  },
  {
   "cell_type": "code",
   "execution_count": 31,
   "id": "4d4810dc",
   "metadata": {
    "scrolled": true
   },
   "outputs": [
    {
     "data": {
      "text/plain": [
       "DeepULMNet(\n",
       "  (coordconv): CoordConv(\n",
       "    (addcoords): AddCoords()\n",
       "    (conv): Conv2d(3, 32, kernel_size=(3, 3), stride=(1, 1), padding=(1, 1))\n",
       "  )\n",
       "  (encoder1): Sequential(\n",
       "    (0): Conv2d(1, 32, kernel_size=(3, 3), stride=(1, 1), padding=(1, 1))\n",
       "    (1): BatchNorm2d(32, eps=1e-05, momentum=0.1, affine=True, track_running_stats=True)\n",
       "    (2): LeakyReLU(negative_slope=0.01)\n",
       "    (3): Conv2d(32, 64, kernel_size=(3, 3), stride=(1, 1), padding=(1, 1))\n",
       "    (4): BatchNorm2d(64, eps=1e-05, momentum=0.1, affine=True, track_running_stats=True)\n",
       "    (5): LeakyReLU(negative_slope=0.01)\n",
       "  )\n",
       "  (max1): MaxPool2d(kernel_size=2, stride=2, padding=0, dilation=1, ceil_mode=False)\n",
       "  (encoder2): Sequential(\n",
       "    (0): Conv2d(64, 64, kernel_size=(3, 3), stride=(1, 1), padding=(1, 1))\n",
       "    (1): BatchNorm2d(64, eps=1e-05, momentum=0.1, affine=True, track_running_stats=True)\n",
       "    (2): LeakyReLU(negative_slope=0.01)\n",
       "    (3): Conv2d(64, 128, kernel_size=(3, 3), stride=(1, 1), padding=(1, 1))\n",
       "    (4): BatchNorm2d(128, eps=1e-05, momentum=0.1, affine=True, track_running_stats=True)\n",
       "    (5): LeakyReLU(negative_slope=0.01)\n",
       "  )\n",
       "  (max2): MaxPool2d(kernel_size=2, stride=2, padding=0, dilation=1, ceil_mode=False)\n",
       "  (encoder3): Sequential(\n",
       "    (0): Conv2d(128, 128, kernel_size=(3, 3), stride=(1, 1), padding=(1, 1))\n",
       "    (1): BatchNorm2d(128, eps=1e-05, momentum=0.1, affine=True, track_running_stats=True)\n",
       "    (2): LeakyReLU(negative_slope=0.01)\n",
       "    (3): Conv2d(128, 256, kernel_size=(3, 3), stride=(1, 1), padding=(1, 1))\n",
       "    (4): BatchNorm2d(256, eps=1e-05, momentum=0.1, affine=True, track_running_stats=True)\n",
       "    (5): LeakyReLU(negative_slope=0.01)\n",
       "  )\n",
       "  (max3): MaxPool2d(kernel_size=2, stride=2, padding=0, dilation=1, ceil_mode=False)\n",
       "  (latent): Sequential(\n",
       "    (0): Conv2d(256, 256, kernel_size=(3, 3), stride=(1, 1), padding=(1, 1))\n",
       "    (1): BatchNorm2d(256, eps=1e-05, momentum=0.1, affine=True, track_running_stats=True)\n",
       "    (2): LeakyReLU(negative_slope=0.01)\n",
       "    (3): Conv2d(256, 256, kernel_size=(3, 3), stride=(1, 1), padding=(1, 1))\n",
       "    (4): BatchNorm2d(256, eps=1e-05, momentum=0.1, affine=True, track_running_stats=True)\n",
       "    (5): LeakyReLU(negative_slope=0.01)\n",
       "  )\n",
       "  (dropout): Dropout2d(p=0.5, inplace=False)\n",
       "  (decoder3_t): Sequential(\n",
       "    (0): ConvTranspose2d(256, 256, kernel_size=(2, 2), stride=(2, 2))\n",
       "    (1): BatchNorm2d(256, eps=1e-05, momentum=0.1, affine=True, track_running_stats=True)\n",
       "    (2): LeakyReLU(negative_slope=0.01)\n",
       "  )\n",
       "  (decoder3): Sequential(\n",
       "    (0): Conv2d(256, 128, kernel_size=(3, 3), stride=(1, 1), padding=(1, 1))\n",
       "    (1): BatchNorm2d(128, eps=1e-05, momentum=0.1, affine=True, track_running_stats=True)\n",
       "    (2): LeakyReLU(negative_slope=0.01)\n",
       "    (3): Conv2d(128, 128, kernel_size=(3, 3), stride=(1, 1), padding=(1, 1))\n",
       "    (4): BatchNorm2d(128, eps=1e-05, momentum=0.1, affine=True, track_running_stats=True)\n",
       "    (5): LeakyReLU(negative_slope=0.01)\n",
       "  )\n",
       "  (up3): Upsample(scale_factor=2.0, mode=nearest)\n",
       "  (decoder2_t): Sequential(\n",
       "    (0): ConvTranspose2d(128, 64, kernel_size=(2, 2), stride=(2, 2))\n",
       "    (1): BatchNorm2d(64, eps=1e-05, momentum=0.1, affine=True, track_running_stats=True)\n",
       "    (2): LeakyReLU(negative_slope=0.01)\n",
       "  )\n",
       "  (decoder2): Sequential(\n",
       "    (0): Conv2d(64, 64, kernel_size=(3, 3), stride=(1, 1), padding=(1, 1))\n",
       "    (1): BatchNorm2d(64, eps=1e-05, momentum=0.1, affine=True, track_running_stats=True)\n",
       "    (2): LeakyReLU(negative_slope=0.01)\n",
       "    (3): Conv2d(64, 64, kernel_size=(3, 3), stride=(1, 1), padding=(1, 1))\n",
       "    (4): BatchNorm2d(64, eps=1e-05, momentum=0.1, affine=True, track_running_stats=True)\n",
       "    (5): LeakyReLU(negative_slope=0.01)\n",
       "  )\n",
       "  (decoder1_t): Sequential(\n",
       "    (0): ConvTranspose2d(64, 32, kernel_size=(2, 2), stride=(2, 2))\n",
       "    (1): BatchNorm2d(32, eps=1e-05, momentum=0.1, affine=True, track_running_stats=True)\n",
       "    (2): LeakyReLU(negative_slope=0.01)\n",
       "  )\n",
       "  (decoder1): Sequential(\n",
       "    (0): Conv2d(32, 32, kernel_size=(3, 3), stride=(1, 1), padding=(1, 1))\n",
       "    (1): BatchNorm2d(32, eps=1e-05, momentum=0.1, affine=True, track_running_stats=True)\n",
       "    (2): LeakyReLU(negative_slope=0.01)\n",
       "    (3): Conv2d(32, 32, kernel_size=(3, 3), stride=(1, 1), padding=(1, 1))\n",
       "    (4): BatchNorm2d(32, eps=1e-05, momentum=0.1, affine=True, track_running_stats=True)\n",
       "    (5): LeakyReLU(negative_slope=0.01)\n",
       "  )\n",
       "  (end): Sequential(\n",
       "    (0): Conv2d(32, 4, kernel_size=(3, 3), stride=(1, 1), padding=(1, 1))\n",
       "    (1): PixelShuffle(upscale_factor=2)\n",
       "  )\n",
       ")"
      ]
     },
     "execution_count": 31,
     "metadata": {},
     "output_type": "execute_result"
    }
   ],
   "source": [
    "#Load the model\n",
    "# model = torch.load(\"../trained_models/liu/model_07_noise/model_07_noise_5_24.pth\")\n",
    "model = torch.load(\"../trained_models/vansloun/model_07_noise/model_07_noise_9_15.pth\")\n",
    "model.cuda() # /!\\ Remove .cuda() if we don't have cuda available /!\\\n",
    "model.eval()"
   ]
  },
  {
   "cell_type": "markdown",
   "id": "47f720f1",
   "metadata": {},
   "source": [
    "# Model on test data"
   ]
  },
  {
   "cell_type": "code",
   "execution_count": 27,
   "id": "8c207532",
   "metadata": {
    "scrolled": true
   },
   "outputs": [],
   "source": [
    "#Predict on all test data\n",
    "criterion = nn.MSELoss().cuda()\n",
    "predictions = []\n",
    "inputs =  []\n",
    "targets = [] \n",
    "mse = []\n",
    "for batch in testing_data_loader:\n",
    "    with torch.no_grad():\n",
    "        model.eval()\n",
    "        batch = batch\n",
    "        input, target = Variable(batch[0].float()).cuda(), Variable(batch[1].float()).cuda() # /!\\ Remove .cuda() if we don't have cuda available /!\\\n",
    "        prediction = model(input)\n",
    "        predictions.append(prediction)\n",
    "        inputs.append(input)\n",
    "        targets.append(target)\n",
    "        #mse.append(criterion(prediction, target).item())\n",
    "        #psnr = 10 * log10(amplitude / mse.item())\n",
    "        #avg_psnr += psnr"
   ]
  },
  {
   "cell_type": "markdown",
   "id": "315005d5",
   "metadata": {},
   "source": [
    "# Peak Local Max of Predicted"
   ]
  },
  {
   "cell_type": "code",
   "execution_count": 28,
   "id": "3716d892",
   "metadata": {
    "scrolled": true
   },
   "outputs": [],
   "source": [
    "#Improve the localization using local_maxima estimation and threshold\n",
    "coordinates = []\n",
    "for i in range(len(predictions)):\n",
    "    for j in range(len(predictions[i])):\n",
    "        coordinates.append(peak_local_max(predictions[i][j,0,:,:].cpu().detach().numpy(), threshold_abs= 2, min_distance = 2))\n",
    "        predictions_lmax = np.zeros((128,128,len(coordinates)))\n",
    "\n",
    "for k in range(len(coordinates)):\n",
    "    predictions_lmax[coordinates[k][:,0], coordinates[k][:,1], k] = 1      \n"
   ]
  },
  {
   "cell_type": "markdown",
   "id": "5b4ddbb4",
   "metadata": {},
   "source": [
    "# Visualization"
   ]
  },
  {
   "cell_type": "code",
   "execution_count": 9,
   "id": "90fcadfb",
   "metadata": {
    "scrolled": true
   },
   "outputs": [
    {
     "data": {
      "image/png": "[encoded data removed]",
      "text/plain": [
       "<Figure size 432x288 with 2 Axes>"
      ]
     },
     "metadata": {
      "needs_background": "light"
     },
     "output_type": "display_data"
    },
    {
     "data": {
      "image/png": "[encoded data removed]",
      "text/plain": [
       "<Figure size 432x288 with 2 Axes>"
      ]
     },
     "metadata": {
      "needs_background": "light"
     },
     "output_type": "display_data"
    },
    {
     "data": {
      "image/png": "[encoded data removed]",
      "text/plain": [
       "<Figure size 432x288 with 2 Axes>"
      ]
     },
     "metadata": {
      "needs_background": "light"
     },
     "output_type": "display_data"
    },
    {
     "data": {
      "image/png": "[encoded data removed]",
      "text/plain": [
       "<Figure size 432x288 with 2 Axes>"
      ]
     },
     "metadata": {
      "needs_background": "light"
     },
     "output_type": "display_data"
    }
   ],
   "source": [
    "# Look at the input, prediction, prediction_lmax, target for a specified range\n",
    "for i in range(270,271):\n",
    "    for j in range(predictions[i].size()[0]):\n",
    "        bmode_visu(inputs[i][j,0,:,:].cpu().detach().numpy()) # /!\\ Remove .cpu() if we don't have cuda available /!\\\n",
    "        bmode_visu(predictions[i][j,0,:,:].cpu().detach().numpy()) # /!\\ Remove .cpu() if we don't have cuda available /!\\\n",
    "        bmode_visu(predictions_lmax[:,:,i],150)\n",
    "        bmode_visu(targets[i][j,0,:,:].cpu().detach().numpy(), 150) # /!\\ Remove .cpu() if we don't have cuda available /!\\"
   ]
  },
  {
   "cell_type": "markdown",
   "id": "51ccca50",
   "metadata": {},
   "source": [
    "# Tiled"
   ]
  },
  {
   "cell_type": "code",
   "execution_count": 35,
   "id": "b96becd5",
   "metadata": {},
   "outputs": [],
   "source": [
    "# Loading a .mat file and save it to a .npz file\n",
    "import numpy as np\n",
    "import scipy.io\n",
    "from pathlib import Path\n",
    "\n",
    "# data = scipy.io.loadmat('../DL_flow/multiflow_DL_c_30_snr5.mat')\n",
    "data = scipy.io.loadmat('../DL_flow/IQ_couture.mat') # Couture\n",
    "\n",
    "# flow_set  = data['IQc']\n",
    "flow_set  = data['absSf'] # Couture\n",
    "# dirac_all = data['dirac_truth']\n",
    "\n",
    "# np.savez('../DL_flow/flow_simu_raw.npz', flow_set)\n",
    "np.savez('../DL_flow/flow_simu_raw_2.npz', flow_set) # Couture\n",
    "# np.savez('../DL_flow/flow_simu_truth.npz', dirac_all)"
   ]
  },
  {
   "cell_type": "code",
   "execution_count": 32,
   "id": "8b0f25c5",
   "metadata": {
    "scrolled": true
   },
   "outputs": [],
   "source": [
    "# Couture\n",
    "container_raw = np.load('../DL_flow/flow_simu_raw_2.npz')\n",
    "IQc_raw = np.array([container_raw[key] for key in container_raw])\n",
    "IQc_tiled_raw = tile(IQc_raw[0][0:64,:,], 32)"
   ]
  },
  {
   "cell_type": "code",
   "execution_count": null,
   "id": "2d411a0f",
   "metadata": {},
   "outputs": [],
   "source": [
    "# # Load .npz file and split raw and truth part in numpy array\n",
    "# container_raw = np.load('../DL_flow/flow_simu_raw.npz')\n",
    "# IQc_raw = np.array([container_raw[key] for key in container_raw])\n",
    "# IQc_raw = IQc_raw[0]\n",
    "# container_truth = np.load('../DL_flow/flow_simu_truth.npz')\n",
    "# IQc_truth = np.array([container_truth[key] for key in container_truth])\n",
    "# IQc_truth = IQc_truth[0]\n",
    "\n",
    "# IQc_tiled_raw = tile(IQc_raw, 32)"
   ]
  },
  {
   "cell_type": "code",
   "execution_count": 152,
   "id": "9de0c392",
   "metadata": {
    "scrolled": true
   },
   "outputs": [],
   "source": [
    "# Predict on tiled image with the model and reconstruct each image with untile\n",
    "predictions = torch.Tensor().cuda()\n",
    "for batch in IQc_tiled_raw:\n",
    "    with torch.no_grad():\n",
    "        input = Variable(batch.unsqueeze(0).float()).cuda()\n",
    "        prediction = model(input)\n",
    "        predictions = torch.cat((predictions, prediction))\n",
    "# prediction_untiled = untile(predictions, 2, 2)\n",
    "prediction_untiled = untile(predictions, 2, 4) # Couture"
   ]
  },
  {
   "cell_type": "markdown",
   "id": "de47af2f",
   "metadata": {},
   "source": [
    "## Method 1"
   ]
  },
  {
   "cell_type": "code",
   "execution_count": 178,
   "id": "8b4c0757",
   "metadata": {},
   "outputs": [],
   "source": [
    "# Peak Local Max after Untile\n",
    "# Improve the localization using local_maxima estimation and threshold\n",
    "coordinates_tile = []\n",
    "for i in range(800):\n",
    "    for j in range(len(predictions[i])):\n",
    "        coordinates_tile.append(peak_local_max(prediction_untiled[i,0,:,:].cpu().detach().numpy(), threshold_abs= 2, min_distance = 4, num_peaks = 40)) \n",
    "predictions_tile_lmax = np.zeros((256,512,len(coordinates_tile)))\n",
    "\n",
    "for k in range(len(coordinates_tile)):\n",
    "    predictions_tile_lmax[coordinates_tile[k][:,0], coordinates_tile[k][:,1], k] = 1"
   ]
  },
  {
   "cell_type": "markdown",
   "id": "63449a36",
   "metadata": {},
   "source": [
    "## Method 2"
   ]
  },
  {
   "cell_type": "code",
   "execution_count": 140,
   "id": "60be4c73",
   "metadata": {},
   "outputs": [],
   "source": [
    "# Peak Local Max before Untile\n",
    "# Improve the localization using local_maxima estimation and threshold\n",
    "coordinates_tile = []\n",
    "for i in range(6400):\n",
    "    for j in range(len(predictions[i])):\n",
    "        coordinates_tile.append(peak_local_max(predictions[i,0,:,:].cpu().detach().numpy(), threshold_abs= 2, min_distance = 4)) \n",
    "predictions_tile_lmax = np.zeros((128,128,len(coordinates_tile)))\n",
    "\n",
    "for k in range(len(coordinates_tile)):\n",
    "    predictions_tile_lmax[coordinates_tile[k][:,0], coordinates_tile[k][:,1], k] = 1"
   ]
  },
  {
   "cell_type": "code",
   "execution_count": 144,
   "id": "23c154fb",
   "metadata": {},
   "outputs": [],
   "source": [
    "predictions_tile_lmax = predictions_tile_lmax.reshape(128,128,1,6400)\n",
    "binbang = untile(predictions_tile_lmax, 2,4)"
   ]
  },
  {
   "cell_type": "markdown",
   "id": "24bfb1e2",
   "metadata": {},
   "source": [
    "## Accumulation of the position"
   ]
  },
  {
   "cell_type": "code",
   "execution_count": 183,
   "id": "20a49b50",
   "metadata": {},
   "outputs": [],
   "source": [
    "# Through the Nt parameter (time) sum up each position for local max of predictions, square mean of input, sum of target, sum of vanilla predictions\n",
    "test_1 = np.sum(predictions_tile_lmax, axis = 2)\n",
    "test_2 = np.mean(IQc_raw**2, axis = 2)\n",
    "# test_2 = np.mean(IQc_raw[0][0:64,:,:]**2, axis = 2) # Couture\n",
    "# test_3 = np.sum(IQc_truth, axis = 2)\n",
    "test_4 = np.sum(prediction_untiled.cpu().detach().numpy(), axis = 0).squeeze()"
   ]
  },
  {
   "cell_type": "code",
   "execution_count": 184,
   "id": "3a523c0b",
   "metadata": {
    "scrolled": true
   },
   "outputs": [
    {
     "name": "stdout",
     "output_type": "stream",
     "text": [
      "Sum Prediction\n"
     ]
    },
    {
     "data": {
      "image/png": "[encoded data removed]",
      "text/plain": [
       "<Figure size 432x288 with 2 Axes>"
      ]
     },
     "metadata": {
      "needs_background": "light"
     },
     "output_type": "display_data"
    },
    {
     "name": "stdout",
     "output_type": "stream",
     "text": [
      "Sum Local Max Prediction\n"
     ]
    },
    {
     "data": {
      "image/png": "[encoded data removed]",
      "text/plain": [
       "<Figure size 432x288 with 2 Axes>"
      ]
     },
     "metadata": {
      "needs_background": "light"
     },
     "output_type": "display_data"
    },
    {
     "name": "stdout",
     "output_type": "stream",
     "text": [
      "Sum Target\n",
      "Doppler\n"
     ]
    }
   ],
   "source": [
    "# Look at the reconstruction of each step of the process\n",
    "print(\"Sum Prediction\")\n",
    "bmode_visu(test_4,60)\n",
    "print(\"Sum Local Max Prediction\")\n",
    "bmode_visu(test_1,250)\n",
    "print(\"Sum Target\")\n",
    "# bmode_visu(test_3)\n",
    "print(\"Doppler\")\n",
    "# bmode_visu(test_2)\n",
    "# bmode_visu(test_2, 50) # Couture"
   ]
  },
  {
   "cell_type": "markdown",
   "id": "f9f79f5c",
   "metadata": {},
   "source": [
    "## Timelaps"
   ]
  },
  {
   "cell_type": "code",
   "execution_count": 177,
   "id": "7704e3a6",
   "metadata": {
    "scrolled": true
   },
   "outputs": [
    {
     "data": {
      "image/png": "[encoded data removed]",
      "text/plain": [
       "<Figure size 432x288 with 2 Axes>"
      ]
     },
     "metadata": {
      "needs_background": "light"
     },
     "output_type": "display_data"
    },
    {
     "name": "stdout",
     "output_type": "stream",
     "text": [
      "\n"
     ]
    }
   ],
   "source": [
    "# Make a timelap of the amplitude\n",
    "from IPython.display import clear_output\n",
    "for j in range(5):\n",
    "    for i in range (50,100):\n",
    "        if i%2 == 0:\n",
    "            clear_output(wait=True)\n",
    "            bmode_visu(test_4,i)\n",
    "            print(\"\")\n",
    "    for i in range (100,50,-1):\n",
    "        if i%2 == 0:\n",
    "            clear_output(wait=True)\n",
    "            bmode_visu(test_4,i)\n",
    "            print(\"\")"
   ]
  },
  {
   "cell_type": "code",
   "execution_count": 71,
   "id": "b4976abc",
   "metadata": {},
   "outputs": [
    {
     "data": {
      "image/png": "[encoded data removed]",
      "text/plain": [
       "<Figure size 432x288 with 2 Axes>"
      ]
     },
     "metadata": {
      "needs_background": "light"
     },
     "output_type": "display_data"
    }
   ],
   "source": [
    "# Make a timelap of the prediction\n",
    "for i in range (0,800):\n",
    "        if i%1 == 0:\n",
    "            clear_output(wait=True)\n",
    "            bmode_visu(prediction_untiled[i,0,:,:],60)\n"
   ]
  },
  {
   "cell_type": "markdown",
   "id": "d219ded2",
   "metadata": {},
   "source": [
    "## Tube Perf"
   ]
  },
  {
   "cell_type": "code",
   "execution_count": 388,
   "id": "b937a902",
   "metadata": {},
   "outputs": [],
   "source": [
    "# Here we look at the local max of predctions coordinates vs the targets\n",
    "result_1 = np.where(test_1 > 1)\n",
    "listOfCoordinates_1 = list(zip(result_1[0], result_1[1]))\n",
    "listOfCoordinates_1 = [list(item) for item in listOfCoordinates_1]\n",
    "listOfCoordinates_1 = np.array(listOfCoordinates_1)\n",
    "\n",
    "result_2 = np.where(test_3 > 1)\n",
    "listOfCoordinates_2 = list(zip(result_2[0], result_2[1]))\n",
    "listOfCoordinates_2 = [list(item) for item in listOfCoordinates_2]\n",
    "listOfCoordinates_2 = np.array(listOfCoordinates_2)"
   ]
  },
  {
   "cell_type": "code",
   "execution_count": 395,
   "id": "d5d8d85b",
   "metadata": {},
   "outputs": [
    {
     "name": "stderr",
     "output_type": "stream",
     "text": [
      "C:\\Users\\judel\\miniconda3\\envs\\pytorch\\lib\\site-packages\\seaborn\\_decorators.py:43: FutureWarning:\n",
      "\n",
      "Pass the following variables as keyword args: x, y. From version 0.12, the only valid positional argument will be `data`, and passing other arguments without an explicit keyword will result in an error or misinterpretation.\n",
      "\n"
     ]
    },
    {
     "data": {
      "image/png": "[encoded data removed]",
      "text/plain": [
       "<Figure size 432x288 with 1 Axes>"
      ]
     },
     "metadata": {},
     "output_type": "display_data"
    },
    {
     "data": {
      "image/png": "[encoded data removed]",
      "text/plain": [
       "<Figure size 432x288 with 1 Axes>"
      ]
     },
     "metadata": {},
     "output_type": "display_data"
    },
    {
     "data": {
      "text/plain": [
       "(None, None)"
      ]
     },
     "execution_count": 395,
     "metadata": {},
     "output_type": "execute_result"
    }
   ],
   "source": [
    "plot_max(np.zeros([256,256]),listOfCoordinates_2),plot_max(listOfCoordinates_1,listOfCoordinates_2)"
   ]
  },
  {
   "cell_type": "code",
   "execution_count": 390,
   "id": "293db811",
   "metadata": {},
   "outputs": [],
   "source": [
    "# Look at the distribution of lights up pixels for predictions, local max of predictions and targets\n",
    "sum_1 = np.sum(test_1, axis = 0)\n",
    "sum_3 = np.sum(test_3, axis = 0)\n",
    "sum_4 = np.sum(test_4, axis = 0)\n"
   ]
  },
  {
   "cell_type": "code",
   "execution_count": 392,
   "id": "5292bd8a",
   "metadata": {},
   "outputs": [
    {
     "data": {
      "text/plain": [
       "[<matplotlib.lines.Line2D at 0x1a99ec64348>]"
      ]
     },
     "execution_count": 392,
     "metadata": {},
     "output_type": "execute_result"
    },
    {
     "data": {
      "image/png": "[encoded data removed]",
      "text/plain": [
       "<Figure size 432x288 with 1 Axes>"
      ]
     },
     "metadata": {},
     "output_type": "display_data"
    }
   ],
   "source": [
    "plt.plot(sum_1)\n",
    "plt.plot(sum_3)\n",
    "#plt.plot(sum_4)\n"
   ]
  },
  {
   "cell_type": "code",
   "execution_count": 186,
   "id": "3f9daf7d",
   "metadata": {},
   "outputs": [
    {
     "data": {
      "image/png": "[encoded data removed]",
      "text/plain": [
       "<Figure size 432x288 with 2 Axes>"
      ]
     },
     "metadata": {
      "needs_background": "light"
     },
     "output_type": "display_data"
    },
    {
     "data": {
      "image/png": "[encoded data removed]",
      "text/plain": [
       "<Figure size 432x288 with 2 Axes>"
      ]
     },
     "metadata": {
      "needs_background": "light"
     },
     "output_type": "display_data"
    },
    {
     "data": {
      "text/plain": [
       "(None, None)"
      ]
     },
     "execution_count": 186,
     "metadata": {},
     "output_type": "execute_result"
    }
   ],
   "source": [
    "bmode_visu(prediction_untiled[1,0,:,:]),bmode_visu(predictions_tile_lmax[:,:,1],250)"
   ]
  },
  {
   "cell_type": "code",
   "execution_count": null,
   "id": "c3cab95a",
   "metadata": {},
   "outputs": [],
   "source": [
    "# bmode_visu(IQc_tiled_raw[1,0,:,:].detach().numpy())\n",
    "# bmode_visu(IQc_raw[:,:,1])\n",
    "# bmode_visu(IQc_truth[:,:,1], 250)"
   ]
  },
  {
   "cell_type": "code",
   "execution_count": null,
   "id": "a8f5464f",
   "metadata": {},
   "outputs": [],
   "source": [
    "# bmode_visu(IQc_truth[:,:,0], 250)"
   ]
  },
  {
   "cell_type": "markdown",
   "id": "4007de1f",
   "metadata": {},
   "source": [
    "# Plot Target vs Predicted"
   ]
  },
  {
   "cell_type": "code",
   "execution_count": 210,
   "id": "017c4d13",
   "metadata": {},
   "outputs": [],
   "source": [
    "# We take the peak local max of the peak local max in order to have only the coordinates and we set up a plot of Target vs Prediction\n",
    "%matplotlib inline\n",
    "sns.set() # Plot styling\n",
    "def plot_max(a, b):\n",
    "    plt.ylim(256,0) # Change the dimension with the output size\n",
    "    plt.xlim(0,256) # Change the dimension with the output size\n",
    "    sns.regplot(b[:, 1], b[:, 0], label = \"Target\", scatter_kws = {\"color\":\"red\",\"alpha\":0.7,\"s\":1}, fit_reg = False, ci = False).legend(loc=\"best\")\n",
    "    sns.regplot(a[:, 1], a[:, 0], label = \"Predicted\", scatter_kws = {\"color\":\"blue\",\"alpha\":0.4,\"s\":1}, fit_reg = False, ci = False).legend(loc=\"best\")\n",
    "    plt.gca().set_aspect('equal', adjustable = 'box')\n",
    "    plt.grid(False)\n",
    "    plt.show()\n",
    "    "
   ]
  },
  {
   "cell_type": "markdown",
   "id": "4d8fad55",
   "metadata": {},
   "source": [
    "# Function to look at Target vs Predicted"
   ]
  },
  {
   "cell_type": "code",
   "execution_count": null,
   "id": "e2b31b31",
   "metadata": {},
   "outputs": [],
   "source": [
    "# # Not useful here but interesting function\n",
    "# def array_in_list(myarr, list_arrays):\n",
    "#     return next((True for elem in list_arrays if np.array_equal(elem, myarr)), False)"
   ]
  },
  {
   "cell_type": "code",
   "execution_count": 16,
   "id": "97035404",
   "metadata": {},
   "outputs": [],
   "source": [
    "# Align predictions targets in increasing order for the x coordinate, the targets not predicted will be at the end of the target list\n",
    "# The ouput of this function should sort the target list according to our prediction:\n",
    "# Input: Prediction list [[x1,y1],[x2,y2],[x3,y3]] Target List [[x1',y1'],[x4',y4'],[x2',y2'],[x3',y3']]\n",
    "# Output: Prediction list [[x1,y1],[x2,y2],[x3,y3]] Target List [[x1',y1'],[x2',y2'],[x3',y3'],[x4',y4']]\n",
    "def align_by_dist(A, B):\n",
    "    for i in range(len(A)):\n",
    "        D = [] # This list will contain the index where the euclidean distance is lower than the threshold\n",
    "        for j in range(len(B)):\n",
    "            dist = distance.euclidean(A[i], B[j]) # Compute the euclidean distance between a target at index j and a prediction at index i\n",
    "            if dist <= 4: # Select a treshold for the euclidean distance\n",
    "                D.append(np.array([dist,j,i])) # Append the euclidean distance and the index of the target and prediction vector\n",
    "        if D: # If we find an euclidean distance lower than the threshold we can now sort for the index i the list of prediction\n",
    "            D_sorted = sorted(D,key=lambda elem:elem[0]) # We sort the array of distance lower than the threshold to get the minimum distance for the index i \n",
    "            value = D_sorted[0]\n",
    "            B[value[2].astype(np.int64)], B[value[1].astype(np.int64)] = B[value[1].astype(np.int64)], B[value[2].astype(np.int64)] # We updated the target list position \n",
    "            A[value[2].astype(np.int64)] = [1000000,1000000] # We set the value of the predictions very high to not have duplicates when sorting the targets coordinates \n",
    "    return B"
   ]
  },
  {
   "cell_type": "code",
   "execution_count": 17,
   "id": "862852c0",
   "metadata": {},
   "outputs": [],
   "source": [
    "# Delete all the target micro-bubble that were not predicted, in fact: len(predict) == len(target)\n",
    "def equal_length(A, B):\n",
    "    for i in range(len(A) - len(B)):\n",
    "        B = np.delete(B, -1, 0)\n",
    "    return A, B"
   ]
  },
  {
   "cell_type": "code",
   "execution_count": 18,
   "id": "ac696cac",
   "metadata": {},
   "outputs": [],
   "source": [
    "# Select the micro-bubble that were not predicted\n",
    "def non_predicted(A, B):\n",
    "    target_not_predicted = B\n",
    "    for i in range(len(A)):\n",
    "        target_not_predicted = np.delete(target_not_predicted, 0, 0)\n",
    "#     print(\"There is/are\", len(B) - len(A), \"micro-bubble not predicted at:\", target_not_predicted)\n",
    "    return (len(B) - len(A))"
   ]
  },
  {
   "cell_type": "code",
   "execution_count": 19,
   "id": "4eae8eb6",
   "metadata": {},
   "outputs": [],
   "source": [
    "# Take the distance of the well predicted micro-bubble\n",
    "def distance_pred_target(A, B):\n",
    "    D = []\n",
    "    for i in range(len(A)):\n",
    "        dist = distance.euclidean(A[i], B[i])\n",
    "        if dist <= 4:\n",
    "            D.append(dist)\n",
    "        else:\n",
    "            D.append(np.nan)\n",
    "    return D"
   ]
  },
  {
   "cell_type": "code",
   "execution_count": 20,
   "id": "cb76e158",
   "metadata": {},
   "outputs": [],
   "source": [
    "# Select the micro-bubble predicted but not accuratly\n",
    "def distance_nonull(D, A, B):\n",
    "    j = 0\n",
    "    D_not_p = []\n",
    "    for i in range(len(D)):\n",
    "        if D[i] != 0:\n",
    "#             print(\"The micro-bubble predicted at\", A[i], \"should be at\", B[i], \"the euclidean distance here is equal to:\", D[i])\n",
    "            D_not_p.append(D[i])\n",
    "            j += 1\n",
    "    return j, D_not_p"
   ]
  },
  {
   "cell_type": "markdown",
   "id": "ff8e1c98",
   "metadata": {},
   "source": [
    "# Dataframe to compare model precision"
   ]
  },
  {
   "cell_type": "code",
   "execution_count": null,
   "id": "fba0929a",
   "metadata": {},
   "outputs": [],
   "source": [
    "# We use it when running the program with different models (need to be executed only once and after comment this code)\n",
    "df = pd.DataFrame(columns=['Nom du Model', 'ID Image', 'Mb non prédites', 'Mb bien prédites', 'Mb mal prédites', 'Distance moyenne entre toutes les Mb', 'Distance moyenne entre les Mb mal prédites', 'Nombre total de Mb'])"
   ]
  },
  {
   "cell_type": "code",
   "execution_count": null,
   "id": "a62ebfdf",
   "metadata": {},
   "outputs": [],
   "source": [
    "# We use it as a temporary dataframe each time we run the code (need to be executed each time)\n",
    "df1 = pd.DataFrame(columns=['Nom du Model', 'ID Image', 'Mb non prédites', 'Mb bien prédites', 'Mb mal prédites', 'Distance moyenne entre toutes les Mb', 'Distance moyenne entre les Mb mal prédites', 'Nombre total de Mb'])"
   ]
  },
  {
   "cell_type": "code",
   "execution_count": null,
   "id": "9da66b5e",
   "metadata": {
    "scrolled": true
   },
   "outputs": [],
   "source": [
    "for i in range(1,5): # Select which data we want in the test set\n",
    "    for j in range(predictions[i].size()[0]):\n",
    "        list_a, list_b = predictions_lmax[:,:,i], targets[i][j,0,:,:].cpu().detach().numpy() # We take the coordinates of targets and predictions\n",
    "        a, b = peak_local_max(list_a), peak_local_max(list_b) # /!\\ Remove .cpu() if we don't have cuda available /!\\\n",
    "#         plot_max(a, b) # Plot for a given image Predict Local Max vs Target\n",
    "        a_sorted = sorted(a, key=lambda x: x[0]) # We sort in the increasing order both list by looking at the x coordinate\n",
    "        b_sorted = sorted(b, key=lambda x: x[0])\n",
    "        b_final = align_by_dist(a_sorted, b_sorted) # We sort the targets to align target and predictions and we have the non predicted coordinates at the end of the target list\n",
    "        a_eq, b_eq = equal_length(sorted(a, key=lambda x: x[0]), b_final) # We select the targets that have been predicted\n",
    "        mb_not_predicted = non_predicted(sorted(a, key=lambda x: x[0]), b_final) # We select the targets that have not been predicted\n",
    "        avg_euc_dist = distance_pred_target(a_eq, b_eq) # We compute the distance between the predictions and the targets\n",
    "#         print(\"The average distance between all the predicted points and the target is\", np.nanmean(avg_euc_dist))        \n",
    "        j_no_null, distance_bad_pred = distance_nonull(avg_euc_dist, a_eq, b_eq) # We select the predictions that are not perfectly accurate\n",
    "        if not distance_bad_pred: # If there are no bad predictions we just set this number to 0\n",
    "            distance_bad_pred = 0\n",
    "#         print(\"The average distance between the bad predicted points and the target is\", np.nanmean(distance_bad_pred))\n",
    "#         print(\"The number of well predicted micro-bubble is\", len(avg_euc_dist) - j_no_null, \"over\", len(b_final), \"that we were aiming for.\")\n",
    "        df1.loc[i] = [\"Van Sloun Modified Model (3)\"] + [i + 1] + [mb_not_predicted] + [len(avg_euc_dist) - j_no_null] + [j_no_null] + [np.nanmean(avg_euc_dist)] + [np.nanmean(distance_bad_pred)] + [len(b_final)]\n",
    "df = pd.concat([df, df1])"
   ]
  },
  {
   "cell_type": "code",
   "execution_count": null,
   "id": "6f81fb4b",
   "metadata": {},
   "outputs": [],
   "source": [
    "# # Sort the dataframe by different parameter and ascending type\n",
    "# df.sort_values(by=['ID Image', 'Mb bien prédites', 'Distance moyenne entre les Mb mal prédites'], ascending=[True, True, False], inplace=True)"
   ]
  },
  {
   "cell_type": "code",
   "execution_count": null,
   "id": "691bf8a0",
   "metadata": {},
   "outputs": [],
   "source": [
    "# # Needed if we want to take a capture of the table with the performance for the same image of every models\n",
    "# df_img_1 = df.loc[df['ID Image'] == 1].reset_index(drop=True).style.set_properties(**{'text-align': 'left'})\n",
    "\n",
    "# df_img_1"
   ]
  },
  {
   "cell_type": "code",
   "execution_count": null,
   "id": "5d940bf2",
   "metadata": {},
   "outputs": [],
   "source": [
    "# Needed to for the plot to transpose the the dataframe\n",
    "# df_pivot = df.pivot(index='ID Image', columns='Nom du Model', values='Distance moyenne entre les Mb mal prédites')"
   ]
  },
  {
   "cell_type": "code",
   "execution_count": null,
   "id": "9087c927",
   "metadata": {},
   "outputs": [],
   "source": [
    "# # Plot the performance of the different models\n",
    "# df_pivot.plot().legend(loc=\"best\", prop={'size': 9})\n",
    "# plt.ylim(0,2)\n",
    "# plt.xlim(1,10)\n",
    "# plt.ylabel('Distance moyenne entre les Mb mal prédites')\n",
    "# plt.grid(False)"
   ]
  },
  {
   "cell_type": "markdown",
   "id": "a7746326",
   "metadata": {},
   "source": [
    "# Model performance by Concentration and SNR"
   ]
  },
  {
   "cell_type": "markdown",
   "id": "8e8a7992",
   "metadata": {},
   "source": [
    "### In this section we will plot the performance (Concentration, SNR, % of well prediction) of liu and vansloun modified model"
   ]
  },
  {
   "cell_type": "code",
   "execution_count": 29,
   "id": "ef1a56ce",
   "metadata": {},
   "outputs": [],
   "source": [
    "# We use it when running the program with different models (need to be executed only once and after comment this code)\n",
    "df_perf = pd.DataFrame(columns=['Nom du Model', 'Distance moyenne entre les Mb mal prédites', \"Concentration\", \"SNR\", \"Pourcentage de Mb bien prédites\", \"Pourcentage de Mb non prédites\"]) "
   ]
  },
  {
   "cell_type": "code",
   "execution_count": 30,
   "id": "03202bc0",
   "metadata": {},
   "outputs": [],
   "source": [
    "# We use it as a temporary dataframe each time we run the code (need to be executed each time)\n",
    "df2 = pd.DataFrame(columns=['Nom du Model', 'Distance moyenne entre les Mb mal prédites', \"Concentration\", \"SNR\", \"Pourcentage de Mb bien prédites\", \"Pourcentage de Mb non prédites\"]) "
   ]
  },
  {
   "cell_type": "code",
   "execution_count": 31,
   "id": "2833d7cf",
   "metadata": {},
   "outputs": [],
   "source": [
    "D = []\n",
    "Wp_p = []\n",
    "Np_p = []\n",
    "concentration = 30 # This is the initial concentration for the data\n",
    "for i in range(len(predictions)):\n",
    "    for j in range(predictions[i].size()[0]):\n",
    "        list_a, list_b = predictions_lmax[:,:,i], targets[i][j,0,:,:].cpu().detach().numpy() # We take the coordinates of targets and predictions\n",
    "        a, b = peak_local_max(list_a), peak_local_max(list_b) # /!\\ Remove .cpu() if we don't have cuda available /!\\\n",
    "#         plot_max(a, b) # Plot for a given image Predict Local Max vs Target\n",
    "        a_sorted = sorted(a, key=lambda x: x[0]) # We sort in the increasing order both list by looking at the x coordinate\n",
    "        b_sorted = sorted(b, key=lambda x: x[0])\n",
    "        b_final = align_by_dist(a_sorted, b_sorted) # We sort the targets to align target and predictions and we have the non predicted coordinates at the end of the target list\n",
    "        a_eq, b_eq = equal_length(sorted(a, key=lambda x: x[0]), b_final) # We select the targets that have been predicted\n",
    "        mb_not_predicted = non_predicted(sorted(a, key=lambda x: x[0]), b_final) # We select the targets that have not been predicted\n",
    "        avg_euc_dist = distance_pred_target(a_eq, b_eq) # We compute the distance between the predictions and the targets\n",
    "        j_no_null, distance_bad_pred = distance_nonull(avg_euc_dist, a_eq, b_eq) # We select the predictions that are not perfectly accurate\n",
    "        if not distance_bad_pred: # If there are no bad predictions we just set this number to 0\n",
    "            distance_bad_pred = 0\n",
    "        D.append(np.sqrt(np.nanmean(np.square(distance_bad_pred)))) # Store the mean distance between bad predicted Mbs in an array\n",
    "        percentage_well_predicted = (len(avg_euc_dist) - j_no_null) / len(b_final) # % of well predicted Mbs\n",
    "        Wp_p.append(percentage_well_predicted) # Store the % of well predicted Mbs in an array\n",
    "        percentage_non_predicted = (mb_not_predicted) / len(b_final) # % of non predicted Mbs\n",
    "        Np_p.append(percentage_non_predicted) # Store the % of non predicted Mbs in an array\n",
    "        if (i+1)%30 == 1: # Since we have 30 input per concentration we compute the performance for this group of the same concentration\n",
    "            df2.loc[i] = [\"Van sloun Model (0.7_6_a15)\"] + [np.nanmean(D)] + [concentration] + [20] + [np.nanmean(Wp_p) * 100] + [np.nanmean(Np_p) * 100]# 40 here is the SNR, it is needed to be change if you take data with a new SNR to observe the difference \n",
    "            concentration += 20 # The gap between 2 concentration is 20\n",
    "df_perf = pd.concat([df_perf, df2])"
   ]
  },
  {
   "cell_type": "code",
   "execution_count": 32,
   "id": "bc9a7609",
   "metadata": {},
   "outputs": [
    {
     "data": {
      "text/html": [
       "<div>\n",
       "<style scoped>\n",
       "    .dataframe tbody tr th:only-of-type {\n",
       "        vertical-align: middle;\n",
       "    }\n",
       "\n",
       "    .dataframe tbody tr th {\n",
       "        vertical-align: top;\n",
       "    }\n",
       "\n",
       "    .dataframe thead th {\n",
       "        text-align: right;\n",
       "    }\n",
       "</style>\n",
       "<table border=\"1\" class=\"dataframe\">\n",
       "  <thead>\n",
       "    <tr style=\"text-align: right;\">\n",
       "      <th></th>\n",
       "      <th>Nom du Model</th>\n",
       "      <th>Distance moyenne entre les Mb mal prédites</th>\n",
       "      <th>Concentration</th>\n",
       "      <th>SNR</th>\n",
       "      <th>Pourcentage de Mb bien prédites</th>\n",
       "      <th>Pourcentage de Mb non prédites</th>\n",
       "    </tr>\n",
       "  </thead>\n",
       "  <tbody>\n",
       "    <tr>\n",
       "      <th>0</th>\n",
       "      <td>Van sloun Model (0.7_6_a15)</td>\n",
       "      <td>1.732051</td>\n",
       "      <td>30</td>\n",
       "      <td>20</td>\n",
       "      <td>75.000000</td>\n",
       "      <td>12.500000</td>\n",
       "    </tr>\n",
       "    <tr>\n",
       "      <th>30</th>\n",
       "      <td>Van sloun Model (0.7_6_a15)</td>\n",
       "      <td>1.117988</td>\n",
       "      <td>50</td>\n",
       "      <td>20</td>\n",
       "      <td>76.850273</td>\n",
       "      <td>8.599267</td>\n",
       "    </tr>\n",
       "    <tr>\n",
       "      <th>60</th>\n",
       "      <td>Van sloun Model (0.7_6_a15)</td>\n",
       "      <td>1.229882</td>\n",
       "      <td>70</td>\n",
       "      <td>20</td>\n",
       "      <td>72.305437</td>\n",
       "      <td>8.638129</td>\n",
       "    </tr>\n",
       "    <tr>\n",
       "      <th>90</th>\n",
       "      <td>Van sloun Model (0.7_6_a15)</td>\n",
       "      <td>1.250973</td>\n",
       "      <td>90</td>\n",
       "      <td>20</td>\n",
       "      <td>69.147217</td>\n",
       "      <td>9.022414</td>\n",
       "    </tr>\n",
       "    <tr>\n",
       "      <th>120</th>\n",
       "      <td>Van sloun Model (0.7_6_a15)</td>\n",
       "      <td>1.257142</td>\n",
       "      <td>110</td>\n",
       "      <td>20</td>\n",
       "      <td>67.497338</td>\n",
       "      <td>9.648788</td>\n",
       "    </tr>\n",
       "    <tr>\n",
       "      <th>150</th>\n",
       "      <td>Van sloun Model (0.7_6_a15)</td>\n",
       "      <td>1.263065</td>\n",
       "      <td>130</td>\n",
       "      <td>20</td>\n",
       "      <td>65.087899</td>\n",
       "      <td>10.030917</td>\n",
       "    </tr>\n",
       "    <tr>\n",
       "      <th>180</th>\n",
       "      <td>Van sloun Model (0.7_6_a15)</td>\n",
       "      <td>1.292868</td>\n",
       "      <td>150</td>\n",
       "      <td>20</td>\n",
       "      <td>62.905833</td>\n",
       "      <td>10.790172</td>\n",
       "    </tr>\n",
       "    <tr>\n",
       "      <th>210</th>\n",
       "      <td>Van sloun Model (0.7_6_a15)</td>\n",
       "      <td>1.308172</td>\n",
       "      <td>170</td>\n",
       "      <td>20</td>\n",
       "      <td>60.360243</td>\n",
       "      <td>11.451406</td>\n",
       "    </tr>\n",
       "    <tr>\n",
       "      <th>240</th>\n",
       "      <td>Van sloun Model (0.7_6_a15)</td>\n",
       "      <td>1.314165</td>\n",
       "      <td>190</td>\n",
       "      <td>20</td>\n",
       "      <td>57.661040</td>\n",
       "      <td>12.250949</td>\n",
       "    </tr>\n",
       "    <tr>\n",
       "      <th>270</th>\n",
       "      <td>Van sloun Model (0.7_6_a15)</td>\n",
       "      <td>1.325610</td>\n",
       "      <td>210</td>\n",
       "      <td>20</td>\n",
       "      <td>55.520590</td>\n",
       "      <td>12.937429</td>\n",
       "    </tr>\n",
       "    <tr>\n",
       "      <th>300</th>\n",
       "      <td>Van sloun Model (0.7_6_a15)</td>\n",
       "      <td>1.331781</td>\n",
       "      <td>230</td>\n",
       "      <td>20</td>\n",
       "      <td>53.935895</td>\n",
       "      <td>13.539099</td>\n",
       "    </tr>\n",
       "    <tr>\n",
       "      <th>330</th>\n",
       "      <td>Van sloun Model (0.7_6_a15)</td>\n",
       "      <td>1.232223</td>\n",
       "      <td>250</td>\n",
       "      <td>20</td>\n",
       "      <td>57.234756</td>\n",
       "      <td>12.870902</td>\n",
       "    </tr>\n",
       "    <tr>\n",
       "      <th>360</th>\n",
       "      <td>Van sloun Model (0.7_6_a15)</td>\n",
       "      <td>1.167539</td>\n",
       "      <td>270</td>\n",
       "      <td>20</td>\n",
       "      <td>59.752572</td>\n",
       "      <td>12.197924</td>\n",
       "    </tr>\n",
       "    <tr>\n",
       "      <th>390</th>\n",
       "      <td>Van sloun Model (0.7_6_a15)</td>\n",
       "      <td>1.134608</td>\n",
       "      <td>290</td>\n",
       "      <td>20</td>\n",
       "      <td>61.737646</td>\n",
       "      <td>11.641003</td>\n",
       "    </tr>\n",
       "  </tbody>\n",
       "</table>\n",
       "</div>"
      ],
      "text/plain": [
       "                    Nom du Model  Distance moyenne entre les Mb mal prédites  \\\n",
       "0    Van sloun Model (0.7_6_a15)                                    1.732051   \n",
       "30   Van sloun Model (0.7_6_a15)                                    1.117988   \n",
       "60   Van sloun Model (0.7_6_a15)                                    1.229882   \n",
       "90   Van sloun Model (0.7_6_a15)                                    1.250973   \n",
       "120  Van sloun Model (0.7_6_a15)                                    1.257142   \n",
       "150  Van sloun Model (0.7_6_a15)                                    1.263065   \n",
       "180  Van sloun Model (0.7_6_a15)                                    1.292868   \n",
       "210  Van sloun Model (0.7_6_a15)                                    1.308172   \n",
       "240  Van sloun Model (0.7_6_a15)                                    1.314165   \n",
       "270  Van sloun Model (0.7_6_a15)                                    1.325610   \n",
       "300  Van sloun Model (0.7_6_a15)                                    1.331781   \n",
       "330  Van sloun Model (0.7_6_a15)                                    1.232223   \n",
       "360  Van sloun Model (0.7_6_a15)                                    1.167539   \n",
       "390  Van sloun Model (0.7_6_a15)                                    1.134608   \n",
       "\n",
       "    Concentration SNR  Pourcentage de Mb bien prédites  \\\n",
       "0              30  20                        75.000000   \n",
       "30             50  20                        76.850273   \n",
       "60             70  20                        72.305437   \n",
       "90             90  20                        69.147217   \n",
       "120           110  20                        67.497338   \n",
       "150           130  20                        65.087899   \n",
       "180           150  20                        62.905833   \n",
       "210           170  20                        60.360243   \n",
       "240           190  20                        57.661040   \n",
       "270           210  20                        55.520590   \n",
       "300           230  20                        53.935895   \n",
       "330           250  20                        57.234756   \n",
       "360           270  20                        59.752572   \n",
       "390           290  20                        61.737646   \n",
       "\n",
       "     Pourcentage de Mb non prédites  \n",
       "0                         12.500000  \n",
       "30                         8.599267  \n",
       "60                         8.638129  \n",
       "90                         9.022414  \n",
       "120                        9.648788  \n",
       "150                       10.030917  \n",
       "180                       10.790172  \n",
       "210                       11.451406  \n",
       "240                       12.250949  \n",
       "270                       12.937429  \n",
       "300                       13.539099  \n",
       "330                       12.870902  \n",
       "360                       12.197924  \n",
       "390                       11.641003  "
      ]
     },
     "execution_count": 32,
     "metadata": {},
     "output_type": "execute_result"
    }
   ],
   "source": [
    "df_perf"
   ]
  },
  {
   "cell_type": "code",
   "execution_count": 25,
   "id": "a3dc1338",
   "metadata": {},
   "outputs": [
    {
     "data": {
      "text/html": [
       "<div>\n",
       "<style scoped>\n",
       "    .dataframe tbody tr th:only-of-type {\n",
       "        vertical-align: middle;\n",
       "    }\n",
       "\n",
       "    .dataframe tbody tr th {\n",
       "        vertical-align: top;\n",
       "    }\n",
       "\n",
       "    .dataframe thead th {\n",
       "        text-align: right;\n",
       "    }\n",
       "</style>\n",
       "<table border=\"1\" class=\"dataframe\">\n",
       "  <thead>\n",
       "    <tr style=\"text-align: right;\">\n",
       "      <th></th>\n",
       "      <th>Nom du Model</th>\n",
       "      <th>Distance moyenne entre les Mb mal prédites</th>\n",
       "      <th>Concentration</th>\n",
       "      <th>SNR</th>\n",
       "      <th>Pourcentage de Mb bien prédites</th>\n",
       "      <th>Pourcentage de Mb non prédites</th>\n",
       "    </tr>\n",
       "  </thead>\n",
       "  <tbody>\n",
       "    <tr>\n",
       "      <th>0</th>\n",
       "      <td>Van sloun Model (0.7_6_a15)</td>\n",
       "      <td>1.527525</td>\n",
       "      <td>30</td>\n",
       "      <td>20</td>\n",
       "      <td>75.000000</td>\n",
       "      <td>6.250000</td>\n",
       "    </tr>\n",
       "    <tr>\n",
       "      <th>30</th>\n",
       "      <td>Van sloun Model (0.7_6_a15)</td>\n",
       "      <td>1.072216</td>\n",
       "      <td>50</td>\n",
       "      <td>20</td>\n",
       "      <td>77.997621</td>\n",
       "      <td>9.382000</td>\n",
       "    </tr>\n",
       "    <tr>\n",
       "      <th>60</th>\n",
       "      <td>Van sloun Model (0.7_6_a15)</td>\n",
       "      <td>1.155949</td>\n",
       "      <td>70</td>\n",
       "      <td>20</td>\n",
       "      <td>73.657880</td>\n",
       "      <td>9.520834</td>\n",
       "    </tr>\n",
       "    <tr>\n",
       "      <th>90</th>\n",
       "      <td>Van sloun Model (0.7_6_a15)</td>\n",
       "      <td>1.195470</td>\n",
       "      <td>90</td>\n",
       "      <td>20</td>\n",
       "      <td>70.573130</td>\n",
       "      <td>9.769170</td>\n",
       "    </tr>\n",
       "    <tr>\n",
       "      <th>120</th>\n",
       "      <td>Van sloun Model (0.7_6_a15)</td>\n",
       "      <td>1.222771</td>\n",
       "      <td>110</td>\n",
       "      <td>20</td>\n",
       "      <td>68.290773</td>\n",
       "      <td>10.458608</td>\n",
       "    </tr>\n",
       "    <tr>\n",
       "      <th>150</th>\n",
       "      <td>Van sloun Model (0.7_6_a15)</td>\n",
       "      <td>1.252666</td>\n",
       "      <td>130</td>\n",
       "      <td>20</td>\n",
       "      <td>65.571963</td>\n",
       "      <td>11.205070</td>\n",
       "    </tr>\n",
       "    <tr>\n",
       "      <th>180</th>\n",
       "      <td>Van sloun Model (0.7_6_a15)</td>\n",
       "      <td>1.273266</td>\n",
       "      <td>150</td>\n",
       "      <td>20</td>\n",
       "      <td>63.045502</td>\n",
       "      <td>11.968797</td>\n",
       "    </tr>\n",
       "    <tr>\n",
       "      <th>210</th>\n",
       "      <td>Van sloun Model (0.7_6_a15)</td>\n",
       "      <td>1.290285</td>\n",
       "      <td>170</td>\n",
       "      <td>20</td>\n",
       "      <td>60.563793</td>\n",
       "      <td>12.622502</td>\n",
       "    </tr>\n",
       "    <tr>\n",
       "      <th>240</th>\n",
       "      <td>Van sloun Model (0.7_6_a15)</td>\n",
       "      <td>1.298510</td>\n",
       "      <td>190</td>\n",
       "      <td>20</td>\n",
       "      <td>57.958729</td>\n",
       "      <td>13.428486</td>\n",
       "    </tr>\n",
       "    <tr>\n",
       "      <th>270</th>\n",
       "      <td>Van sloun Model (0.7_6_a15)</td>\n",
       "      <td>1.306661</td>\n",
       "      <td>210</td>\n",
       "      <td>20</td>\n",
       "      <td>55.703121</td>\n",
       "      <td>14.316308</td>\n",
       "    </tr>\n",
       "    <tr>\n",
       "      <th>300</th>\n",
       "      <td>Van sloun Model (0.7_6_a15)</td>\n",
       "      <td>1.317537</td>\n",
       "      <td>230</td>\n",
       "      <td>20</td>\n",
       "      <td>54.189695</td>\n",
       "      <td>15.042285</td>\n",
       "    </tr>\n",
       "    <tr>\n",
       "      <th>330</th>\n",
       "      <td>Van sloun Model (0.7_6_a15)</td>\n",
       "      <td>1.213228</td>\n",
       "      <td>250</td>\n",
       "      <td>20</td>\n",
       "      <td>57.601506</td>\n",
       "      <td>14.177425</td>\n",
       "    </tr>\n",
       "    <tr>\n",
       "      <th>360</th>\n",
       "      <td>Van sloun Model (0.7_6_a15)</td>\n",
       "      <td>1.142145</td>\n",
       "      <td>270</td>\n",
       "      <td>20</td>\n",
       "      <td>60.163941</td>\n",
       "      <td>13.435444</td>\n",
       "    </tr>\n",
       "    <tr>\n",
       "      <th>390</th>\n",
       "      <td>Van sloun Model (0.7_6_a15)</td>\n",
       "      <td>1.099348</td>\n",
       "      <td>290</td>\n",
       "      <td>20</td>\n",
       "      <td>62.180050</td>\n",
       "      <td>12.803247</td>\n",
       "    </tr>\n",
       "  </tbody>\n",
       "</table>\n",
       "</div>"
      ],
      "text/plain": [
       "                    Nom du Model  Distance moyenne entre les Mb mal prédites  \\\n",
       "0    Van sloun Model (0.7_6_a15)                                    1.527525   \n",
       "30   Van sloun Model (0.7_6_a15)                                    1.072216   \n",
       "60   Van sloun Model (0.7_6_a15)                                    1.155949   \n",
       "90   Van sloun Model (0.7_6_a15)                                    1.195470   \n",
       "120  Van sloun Model (0.7_6_a15)                                    1.222771   \n",
       "150  Van sloun Model (0.7_6_a15)                                    1.252666   \n",
       "180  Van sloun Model (0.7_6_a15)                                    1.273266   \n",
       "210  Van sloun Model (0.7_6_a15)                                    1.290285   \n",
       "240  Van sloun Model (0.7_6_a15)                                    1.298510   \n",
       "270  Van sloun Model (0.7_6_a15)                                    1.306661   \n",
       "300  Van sloun Model (0.7_6_a15)                                    1.317537   \n",
       "330  Van sloun Model (0.7_6_a15)                                    1.213228   \n",
       "360  Van sloun Model (0.7_6_a15)                                    1.142145   \n",
       "390  Van sloun Model (0.7_6_a15)                                    1.099348   \n",
       "\n",
       "    Concentration SNR  Pourcentage de Mb bien prédites  \\\n",
       "0              30  20                        75.000000   \n",
       "30             50  20                        77.997621   \n",
       "60             70  20                        73.657880   \n",
       "90             90  20                        70.573130   \n",
       "120           110  20                        68.290773   \n",
       "150           130  20                        65.571963   \n",
       "180           150  20                        63.045502   \n",
       "210           170  20                        60.563793   \n",
       "240           190  20                        57.958729   \n",
       "270           210  20                        55.703121   \n",
       "300           230  20                        54.189695   \n",
       "330           250  20                        57.601506   \n",
       "360           270  20                        60.163941   \n",
       "390           290  20                        62.180050   \n",
       "\n",
       "     Pourcentage de Mb non prédites  \n",
       "0                          6.250000  \n",
       "30                         9.382000  \n",
       "60                         9.520834  \n",
       "90                         9.769170  \n",
       "120                       10.458608  \n",
       "150                       11.205070  \n",
       "180                       11.968797  \n",
       "210                       12.622502  \n",
       "240                       13.428486  \n",
       "270                       14.316308  \n",
       "300                       15.042285  \n",
       "330                       14.177425  \n",
       "360                       13.435444  \n",
       "390                       12.803247  "
      ]
     },
     "execution_count": 25,
     "metadata": {},
     "output_type": "execute_result"
    }
   ],
   "source": [
    "df_perf"
   ]
  },
  {
   "cell_type": "markdown",
   "id": "63c9c53d",
   "metadata": {},
   "source": [
    "# Model Performance for Tiled images"
   ]
  },
  {
   "cell_type": "code",
   "execution_count": 37,
   "id": "383424d2",
   "metadata": {},
   "outputs": [],
   "source": [
    "# We use it when running the program with different models (need to be executed only once and after comment this code)\n",
    "df_perf_2 = pd.DataFrame(columns=['Nom du Model', 'Distance moyenne entre les Mb mal prédites', \"Concentration\", \"SNR\", \"Pourcentage de Mb bien prédites\", \"Pourcentage de Mb non prédites\"]) "
   ]
  },
  {
   "cell_type": "code",
   "execution_count": 38,
   "id": "c7c14976",
   "metadata": {},
   "outputs": [],
   "source": [
    "# We use it as a temporary dataframe each time we run the code (need to be executed each time)\n",
    "df3 = pd.DataFrame(columns=['Nom du Model', 'Distance moyenne entre les Mb mal prédites', \"Concentration\", \"SNR\", \"Pourcentage de Mb bien prédites\", \"Pourcentage de Mb non prédites\"]) "
   ]
  },
  {
   "cell_type": "code",
   "execution_count": 39,
   "id": "2f445918",
   "metadata": {},
   "outputs": [],
   "source": [
    "D = []\n",
    "Wp_p = []\n",
    "Np_p = []\n",
    "for i in range(len(prediction_untiled)):\n",
    "    for j in range(prediction_untiled[i].size()[0]):\n",
    "        list_a, list_b = predictions_tile_lmax[:,:,i], IQc_truth[:,:,i] # We take the coordinates of targets and predictions\n",
    "        a, b = peak_local_max(list_a), peak_local_max(list_b) # /!\\ Remove .cpu() if we don't have cuda available /!\\\n",
    "#         plot_max(a, b) # Plot for a given image Predict Local Max vs Target\n",
    "        a_sorted = sorted(a, key=lambda x: x[0]) # We sort in the increasing order both list by looking at the x coordinate\n",
    "        b_sorted = sorted(b, key=lambda x: x[0])\n",
    "        b_final = align_by_dist(a_sorted, b_sorted) # We sort the targets to align target and predictions and we have the non predicted coordinates at the end of the target list\n",
    "        a_eq, b_eq = equal_length(sorted(a, key=lambda x: x[0]), b_final) # We select the targets that have been predicted\n",
    "        mb_not_predicted = non_predicted(sorted(a, key=lambda x: x[0]), b_final) # We select the targets that have not been predicted\n",
    "        avg_euc_dist = distance_pred_target(a_eq, b_eq) # We compute the distance between the predictions and the targets\n",
    "        j_no_null, distance_bad_pred = distance_nonull(avg_euc_dist, a_eq, b_eq) # We select the predictions that are not perfectly accurate\n",
    "        if not distance_bad_pred: # If there are no bad predictions we just set this number to 0\n",
    "            distance_bad_pred = 0\n",
    "        D.append(np.sqrt(np.nanmean(np.square(distance_bad_pred)))) # Store the mean distance between bad predicted Mbs in an array\n",
    "        percentage_well_predicted = (len(avg_euc_dist) - j_no_null) / len(b_final) # % of well predicted Mbs\n",
    "        Wp_p.append(percentage_well_predicted) # Store the % of well predicted Mbs in an array\n",
    "        percentage_non_predicted = (mb_not_predicted) / len(b_final) # % of non predicted Mbs\n",
    "        Np_p.append(percentage_non_predicted) # Store the % of non predicted Mbs in an array\n",
    "df3.loc[0] = [\"Van sloun Model (0.7_6_a15)\"] + [np.nanmean(D)] + [50] + [5] + [np.nanmean(Wp_p) * 100] + [np.nanmean(Np_p) * 100]# 40 here is the SNR, it is needed to be change if you take data with a new SNR to observe the difference \n",
    "df_perf_2 = pd.concat([df_perf_2, df3])"
   ]
  },
  {
   "cell_type": "code",
   "execution_count": 357,
   "id": "ce817023",
   "metadata": {},
   "outputs": [
    {
     "data": {
      "text/html": [
       "<div>\n",
       "<style scoped>\n",
       "    .dataframe tbody tr th:only-of-type {\n",
       "        vertical-align: middle;\n",
       "    }\n",
       "\n",
       "    .dataframe tbody tr th {\n",
       "        vertical-align: top;\n",
       "    }\n",
       "\n",
       "    .dataframe thead th {\n",
       "        text-align: right;\n",
       "    }\n",
       "</style>\n",
       "<table border=\"1\" class=\"dataframe\">\n",
       "  <thead>\n",
       "    <tr style=\"text-align: right;\">\n",
       "      <th></th>\n",
       "      <th>Nom du Model</th>\n",
       "      <th>Distance moyenne entre les Mb mal prédites</th>\n",
       "      <th>Concentration</th>\n",
       "      <th>SNR</th>\n",
       "      <th>Pourcentage de Mb bien prédites</th>\n",
       "      <th>Pourcentage de Mb non prédites</th>\n",
       "    </tr>\n",
       "  </thead>\n",
       "  <tbody>\n",
       "    <tr>\n",
       "      <th>0</th>\n",
       "      <td>Van sloun Model (0.7_6_a15)</td>\n",
       "      <td>1.378339</td>\n",
       "      <td>4</td>\n",
       "      <td>5</td>\n",
       "      <td>19.776786</td>\n",
       "      <td>18.299405</td>\n",
       "    </tr>\n",
       "    <tr>\n",
       "      <th>0</th>\n",
       "      <td>Van sloun Model (0.7_6_a15)</td>\n",
       "      <td>1.697479</td>\n",
       "      <td>15</td>\n",
       "      <td>5</td>\n",
       "      <td>8.610292</td>\n",
       "      <td>46.186474</td>\n",
       "    </tr>\n",
       "    <tr>\n",
       "      <th>0</th>\n",
       "      <td>Van sloun Model (0.7_6_a15)</td>\n",
       "      <td>1.640060</td>\n",
       "      <td>30</td>\n",
       "      <td>5</td>\n",
       "      <td>6.002623</td>\n",
       "      <td>63.006275</td>\n",
       "    </tr>\n",
       "    <tr>\n",
       "      <th>0</th>\n",
       "      <td>Van sloun Model (0.7_6_a15)</td>\n",
       "      <td>1.557806</td>\n",
       "      <td>50</td>\n",
       "      <td>5</td>\n",
       "      <td>4.686689</td>\n",
       "      <td>73.596233</td>\n",
       "    </tr>\n",
       "    <tr>\n",
       "      <th>0</th>\n",
       "      <td>Van sloun Model (0.7_6_a15)</td>\n",
       "      <td>1.387946</td>\n",
       "      <td>100</td>\n",
       "      <td>5</td>\n",
       "      <td>3.888655</td>\n",
       "      <td>82.961316</td>\n",
       "    </tr>\n",
       "  </tbody>\n",
       "</table>\n",
       "</div>"
      ],
      "text/plain": [
       "                  Nom du Model  Distance moyenne entre les Mb mal prédites  \\\n",
       "0  Van sloun Model (0.7_6_a15)                                    1.378339   \n",
       "0  Van sloun Model (0.7_6_a15)                                    1.697479   \n",
       "0  Van sloun Model (0.7_6_a15)                                    1.640060   \n",
       "0  Van sloun Model (0.7_6_a15)                                    1.557806   \n",
       "0  Van sloun Model (0.7_6_a15)                                    1.387946   \n",
       "\n",
       "  Concentration SNR  Pourcentage de Mb bien prédites  \\\n",
       "0             4   5                        19.776786   \n",
       "0            15   5                         8.610292   \n",
       "0            30   5                         6.002623   \n",
       "0            50   5                         4.686689   \n",
       "0           100   5                         3.888655   \n",
       "\n",
       "   Pourcentage de Mb non prédites  \n",
       "0                       18.299405  \n",
       "0                       46.186474  \n",
       "0                       63.006275  \n",
       "0                       73.596233  \n",
       "0                       82.961316  "
      ]
     },
     "execution_count": 357,
     "metadata": {},
     "output_type": "execute_result"
    }
   ],
   "source": [
    "df_perf_2"
   ]
  },
  {
   "cell_type": "code",
   "execution_count": 40,
   "id": "0ec05f39",
   "metadata": {},
   "outputs": [
    {
     "data": {
      "text/html": [
       "<div>\n",
       "<style scoped>\n",
       "    .dataframe tbody tr th:only-of-type {\n",
       "        vertical-align: middle;\n",
       "    }\n",
       "\n",
       "    .dataframe tbody tr th {\n",
       "        vertical-align: top;\n",
       "    }\n",
       "\n",
       "    .dataframe thead th {\n",
       "        text-align: right;\n",
       "    }\n",
       "</style>\n",
       "<table border=\"1\" class=\"dataframe\">\n",
       "  <thead>\n",
       "    <tr style=\"text-align: right;\">\n",
       "      <th></th>\n",
       "      <th>Nom du Model</th>\n",
       "      <th>Distance moyenne entre les Mb mal prédites</th>\n",
       "      <th>Concentration</th>\n",
       "      <th>SNR</th>\n",
       "      <th>Pourcentage de Mb bien prédites</th>\n",
       "      <th>Pourcentage de Mb non prédites</th>\n",
       "    </tr>\n",
       "  </thead>\n",
       "  <tbody>\n",
       "    <tr>\n",
       "      <th>0</th>\n",
       "      <td>Van sloun Model (0.7_6_a15)</td>\n",
       "      <td>1.700372</td>\n",
       "      <td>50</td>\n",
       "      <td>5</td>\n",
       "      <td>8.123837</td>\n",
       "      <td>46.613349</td>\n",
       "    </tr>\n",
       "  </tbody>\n",
       "</table>\n",
       "</div>"
      ],
      "text/plain": [
       "                  Nom du Model  Distance moyenne entre les Mb mal prédites  \\\n",
       "0  Van sloun Model (0.7_6_a15)                                    1.700372   \n",
       "\n",
       "  Concentration SNR  Pourcentage de Mb bien prédites  \\\n",
       "0            50   5                         8.123837   \n",
       "\n",
       "   Pourcentage de Mb non prédites  \n",
       "0                       46.613349  "
      ]
     },
     "execution_count": 40,
     "metadata": {},
     "output_type": "execute_result"
    }
   ],
   "source": [
    "df_perf_2"
   ]
  },
  {
   "cell_type": "code",
   "execution_count": null,
   "id": "aee51a7d",
   "metadata": {},
   "outputs": [],
   "source": [
    "# # We sort the value according to Concentration and SNR to have a nice well sorted data frame\n",
    "# df_perf.sort_values(by=['Concentration', 'SNR'], ascending=[True, True], inplace=True)\n",
    "# df_perf.to_csv(r'../CSV_model_perf/liu075_perf.csv', index = False)"
   ]
  },
  {
   "cell_type": "code",
   "execution_count": 367,
   "id": "8ab205fa",
   "metadata": {},
   "outputs": [],
   "source": [
    "# Read the csv dataframe saved before\n",
    "data_1 = pd.read_csv('../CSV_model_perf/vansloun3_perf.csv')\n",
    "data_2 = pd.read_csv('../CSV_model_perf/liu075_perf.csv')\n",
    "data_3 = pd.read_csv('../CSV_model_perf/vansloun6_a15_tube_perf.csv')"
   ]
  },
  {
   "cell_type": "code",
   "execution_count": 372,
   "id": "47fab1f9",
   "metadata": {},
   "outputs": [
    {
     "data": {
      "text/plain": [
       "[<matplotlib.lines.Line2D at 0x1a99d699688>]"
      ]
     },
     "execution_count": 372,
     "metadata": {},
     "output_type": "execute_result"
    },
    {
     "data": {
      "image/png": "[encoded data removed]",
      "text/plain": [
       "<Figure size 432x288 with 1 Axes>"
      ]
     },
     "metadata": {},
     "output_type": "display_data"
    }
   ],
   "source": [
    "plt.plot(data_3['Concentration'],data_3['Pourcentage de Mb non prédites'])"
   ]
  },
  {
   "cell_type": "code",
   "execution_count": null,
   "id": "ac1b5ef8",
   "metadata": {
    "scrolled": true
   },
   "outputs": [],
   "source": [
    "# Concatenate and sort the values of the models selected to be plot\n",
    "df_plot = pd.concat([data_1,data_2])\n",
    "df_plot.sort_values(by=['Concentration', 'SNR'], ascending=[True, True], inplace=True)"
   ]
  },
  {
   "cell_type": "code",
   "execution_count": 369,
   "id": "38b5255c",
   "metadata": {
    "scrolled": true
   },
   "outputs": [
    {
     "data": {
      "application/vnd.plotly.v1+json": {
       "config": {
        "plotlyServerURL": "https://plot.ly"
       },
       "data": [
        {
         "hovertemplate": "Nom du Model=Van sloun Model (0.7_6_a15)<br>Pourcentage de Mb non prédites=%{x}<br>Concentration=%{y}<br>Distance moyenne entre les Mb mal prédites=%{z}<extra></extra>",
         "legendgroup": "Van sloun Model (0.7_6_a15)",
         "marker": {
          "color": "#636efa",
          "symbol": "circle"
         },
         "mode": "markers",
         "name": "Van sloun Model (0.7_6_a15)",
         "scene": "scene",
         "showlegend": true,
         "type": "scatter3d",
         "x": [
          18.29940476190476,
          46.186474183543154,
          63.00627535015981,
          73.59623273017432,
          82.96131623735677
         ],
         "y": [
          4,
          15,
          30,
          50,
          100
         ],
         "z": [
          1.3783394907645825,
          1.6974790186154292,
          1.6400602410593557,
          1.5578059870349883,
          1.3879458578269568
         ]
        }
       ],
       "layout": {
        "legend": {
         "title": {
          "text": "Nom du Model"
         },
         "tracegroupgap": 0
        },
        "margin": {
         "t": 60
        },
        "scene": {
         "domain": {
          "x": [
           0,
           1
          ],
          "y": [
           0,
           1
          ]
         },
         "xaxis": {
          "title": {
           "text": "Pourcentage de Mb non prédites"
          }
         },
         "yaxis": {
          "title": {
           "text": "Concentration"
          }
         },
         "zaxis": {
          "title": {
           "text": "Distance moyenne entre les Mb mal prédites"
          }
         }
        },
        "template": {
         "data": {
          "bar": [
           {
            "error_x": {
             "color": "#2a3f5f"
            },
            "error_y": {
             "color": "#2a3f5f"
            },
            "marker": {
             "line": {
              "color": "#E5ECF6",
              "width": 0.5
             }
            },
            "type": "bar"
           }
          ],
          "barpolar": [
           {
            "marker": {
             "line": {
              "color": "#E5ECF6",
              "width": 0.5
             }
            },
            "type": "barpolar"
           }
          ],
          "carpet": [
           {
            "aaxis": {
             "endlinecolor": "#2a3f5f",
             "gridcolor": "white",
             "linecolor": "white",
             "minorgridcolor": "white",
             "startlinecolor": "#2a3f5f"
            },
            "baxis": {
             "endlinecolor": "#2a3f5f",
             "gridcolor": "white",
             "linecolor": "white",
             "minorgridcolor": "white",
             "startlinecolor": "#2a3f5f"
            },
            "type": "carpet"
           }
          ],
          "choropleth": [
           {
            "colorbar": {
             "outlinewidth": 0,
             "ticks": ""
            },
            "type": "choropleth"
           }
          ],
          "contour": [
           {
            "colorbar": {
             "outlinewidth": 0,
             "ticks": ""
            },
            "colorscale": [
             [
              0,
              "#0d0887"
             ],
             [
              0.1111111111111111,
              "#46039f"
             ],
             [
              0.2222222222222222,
              "#7201a8"
             ],
             [
              0.3333333333333333,
              "#9c179e"
             ],
             [
              0.4444444444444444,
              "#bd3786"
             ],
             [
              0.5555555555555556,
              "#d8576b"
             ],
             [
              0.6666666666666666,
              "#ed7953"
             ],
             [
              0.7777777777777778,
              "#fb9f3a"
             ],
             [
              0.8888888888888888,
              "#fdca26"
             ],
             [
              1,
              "#f0f921"
             ]
            ],
            "type": "contour"
           }
          ],
          "contourcarpet": [
           {
            "colorbar": {
             "outlinewidth": 0,
             "ticks": ""
            },
            "type": "contourcarpet"
           }
          ],
          "heatmap": [
           {
            "colorbar": {
             "outlinewidth": 0,
             "ticks": ""
            },
            "colorscale": [
             [
              0,
              "#0d0887"
             ],
             [
              0.1111111111111111,
              "#46039f"
             ],
             [
              0.2222222222222222,
              "#7201a8"
             ],
             [
              0.3333333333333333,
              "#9c179e"
             ],
             [
              0.4444444444444444,
              "#bd3786"
             ],
             [
              0.5555555555555556,
              "#d8576b"
             ],
             [
              0.6666666666666666,
              "#ed7953"
             ],
             [
              0.7777777777777778,
              "#fb9f3a"
             ],
             [
              0.8888888888888888,
              "#fdca26"
             ],
             [
              1,
              "#f0f921"
             ]
            ],
            "type": "heatmap"
           }
          ],
          "heatmapgl": [
           {
            "colorbar": {
             "outlinewidth": 0,
             "ticks": ""
            },
            "colorscale": [
             [
              0,
              "#0d0887"
             ],
             [
              0.1111111111111111,
              "#46039f"
             ],
             [
              0.2222222222222222,
              "#7201a8"
             ],
             [
              0.3333333333333333,
              "#9c179e"
             ],
             [
              0.4444444444444444,
              "#bd3786"
             ],
             [
              0.5555555555555556,
              "#d8576b"
             ],
             [
              0.6666666666666666,
              "#ed7953"
             ],
             [
              0.7777777777777778,
              "#fb9f3a"
             ],
             [
              0.8888888888888888,
              "#fdca26"
             ],
             [
              1,
              "#f0f921"
             ]
            ],
            "type": "heatmapgl"
           }
          ],
          "histogram": [
           {
            "marker": {
             "colorbar": {
              "outlinewidth": 0,
              "ticks": ""
             }
            },
            "type": "histogram"
           }
          ],
          "histogram2d": [
           {
            "colorbar": {
             "outlinewidth": 0,
             "ticks": ""
            },
            "colorscale": [
             [
              0,
              "#0d0887"
             ],
             [
              0.1111111111111111,
              "#46039f"
             ],
             [
              0.2222222222222222,
              "#7201a8"
             ],
             [
              0.3333333333333333,
              "#9c179e"
             ],
             [
              0.4444444444444444,
              "#bd3786"
             ],
             [
              0.5555555555555556,
              "#d8576b"
             ],
             [
              0.6666666666666666,
              "#ed7953"
             ],
             [
              0.7777777777777778,
              "#fb9f3a"
             ],
             [
              0.8888888888888888,
              "#fdca26"
             ],
             [
              1,
              "#f0f921"
             ]
            ],
            "type": "histogram2d"
           }
          ],
          "histogram2dcontour": [
           {
            "colorbar": {
             "outlinewidth": 0,
             "ticks": ""
            },
            "colorscale": [
             [
              0,
              "#0d0887"
             ],
             [
              0.1111111111111111,
              "#46039f"
             ],
             [
              0.2222222222222222,
              "#7201a8"
             ],
             [
              0.3333333333333333,
              "#9c179e"
             ],
             [
              0.4444444444444444,
              "#bd3786"
             ],
             [
              0.5555555555555556,
              "#d8576b"
             ],
             [
              0.6666666666666666,
              "#ed7953"
             ],
             [
              0.7777777777777778,
              "#fb9f3a"
             ],
             [
              0.8888888888888888,
              "#fdca26"
             ],
             [
              1,
              "#f0f921"
             ]
            ],
            "type": "histogram2dcontour"
           }
          ],
          "mesh3d": [
           {
            "colorbar": {
             "outlinewidth": 0,
             "ticks": ""
            },
            "type": "mesh3d"
           }
          ],
          "parcoords": [
           {
            "line": {
             "colorbar": {
              "outlinewidth": 0,
              "ticks": ""
             }
            },
            "type": "parcoords"
           }
          ],
          "pie": [
           {
            "automargin": true,
            "type": "pie"
           }
          ],
          "scatter": [
           {
            "marker": {
             "colorbar": {
              "outlinewidth": 0,
              "ticks": ""
             }
            },
            "type": "scatter"
           }
          ],
          "scatter3d": [
           {
            "line": {
             "colorbar": {
              "outlinewidth": 0,
              "ticks": ""
             }
            },
            "marker": {
             "colorbar": {
              "outlinewidth": 0,
              "ticks": ""
             }
            },
            "type": "scatter3d"
           }
          ],
          "scattercarpet": [
           {
            "marker": {
             "colorbar": {
              "outlinewidth": 0,
              "ticks": ""
             }
            },
            "type": "scattercarpet"
           }
          ],
          "scattergeo": [
           {
            "marker": {
             "colorbar": {
              "outlinewidth": 0,
              "ticks": ""
             }
            },
            "type": "scattergeo"
           }
          ],
          "scattergl": [
           {
            "marker": {
             "colorbar": {
              "outlinewidth": 0,
              "ticks": ""
             }
            },
            "type": "scattergl"
           }
          ],
          "scattermapbox": [
           {
            "marker": {
             "colorbar": {
              "outlinewidth": 0,
              "ticks": ""
             }
            },
            "type": "scattermapbox"
           }
          ],
          "scatterpolar": [
           {
            "marker": {
             "colorbar": {
              "outlinewidth": 0,
              "ticks": ""
             }
            },
            "type": "scatterpolar"
           }
          ],
          "scatterpolargl": [
           {
            "marker": {
             "colorbar": {
              "outlinewidth": 0,
              "ticks": ""
             }
            },
            "type": "scatterpolargl"
           }
          ],
          "scatterternary": [
           {
            "marker": {
             "colorbar": {
              "outlinewidth": 0,
              "ticks": ""
             }
            },
            "type": "scatterternary"
           }
          ],
          "surface": [
           {
            "colorbar": {
             "outlinewidth": 0,
             "ticks": ""
            },
            "colorscale": [
             [
              0,
              "#0d0887"
             ],
             [
              0.1111111111111111,
              "#46039f"
             ],
             [
              0.2222222222222222,
              "#7201a8"
             ],
             [
              0.3333333333333333,
              "#9c179e"
             ],
             [
              0.4444444444444444,
              "#bd3786"
             ],
             [
              0.5555555555555556,
              "#d8576b"
             ],
             [
              0.6666666666666666,
              "#ed7953"
             ],
             [
              0.7777777777777778,
              "#fb9f3a"
             ],
             [
              0.8888888888888888,
              "#fdca26"
             ],
             [
              1,
              "#f0f921"
             ]
            ],
            "type": "surface"
           }
          ],
          "table": [
           {
            "cells": {
             "fill": {
              "color": "#EBF0F8"
             },
             "line": {
              "color": "white"
             }
            },
            "header": {
             "fill": {
              "color": "#C8D4E3"
             },
             "line": {
              "color": "white"
             }
            },
            "type": "table"
           }
          ]
         },
         "layout": {
          "annotationdefaults": {
           "arrowcolor": "#2a3f5f",
           "arrowhead": 0,
           "arrowwidth": 1
          },
          "autotypenumbers": "strict",
          "coloraxis": {
           "colorbar": {
            "outlinewidth": 0,
            "ticks": ""
           }
          },
          "colorscale": {
           "diverging": [
            [
             0,
             "#8e0152"
            ],
            [
             0.1,
             "#c51b7d"
            ],
            [
             0.2,
             "#de77ae"
            ],
            [
             0.3,
             "#f1b6da"
            ],
            [
             0.4,
             "#fde0ef"
            ],
            [
             0.5,
             "#f7f7f7"
            ],
            [
             0.6,
             "#e6f5d0"
            ],
            [
             0.7,
             "#b8e186"
            ],
            [
             0.8,
             "#7fbc41"
            ],
            [
             0.9,
             "#4d9221"
            ],
            [
             1,
             "#276419"
            ]
           ],
           "sequential": [
            [
             0,
             "#0d0887"
            ],
            [
             0.1111111111111111,
             "#46039f"
            ],
            [
             0.2222222222222222,
             "#7201a8"
            ],
            [
             0.3333333333333333,
             "#9c179e"
            ],
            [
             0.4444444444444444,
             "#bd3786"
            ],
            [
             0.5555555555555556,
             "#d8576b"
            ],
            [
             0.6666666666666666,
             "#ed7953"
            ],
            [
             0.7777777777777778,
             "#fb9f3a"
            ],
            [
             0.8888888888888888,
             "#fdca26"
            ],
            [
             1,
             "#f0f921"
            ]
           ],
           "sequentialminus": [
            [
             0,
             "#0d0887"
            ],
            [
             0.1111111111111111,
             "#46039f"
            ],
            [
             0.2222222222222222,
             "#7201a8"
            ],
            [
             0.3333333333333333,
             "#9c179e"
            ],
            [
             0.4444444444444444,
             "#bd3786"
            ],
            [
             0.5555555555555556,
             "#d8576b"
            ],
            [
             0.6666666666666666,
             "#ed7953"
            ],
            [
             0.7777777777777778,
             "#fb9f3a"
            ],
            [
             0.8888888888888888,
             "#fdca26"
            ],
            [
             1,
             "#f0f921"
            ]
           ]
          },
          "colorway": [
           "#636efa",
           "#EF553B",
           "#00cc96",
           "#ab63fa",
           "#FFA15A",
           "#19d3f3",
           "#FF6692",
           "#B6E880",
           "#FF97FF",
           "#FECB52"
          ],
          "font": {
           "color": "#2a3f5f"
          },
          "geo": {
           "bgcolor": "white",
           "lakecolor": "white",
           "landcolor": "#E5ECF6",
           "showlakes": true,
           "showland": true,
           "subunitcolor": "white"
          },
          "hoverlabel": {
           "align": "left"
          },
          "hovermode": "closest",
          "mapbox": {
           "style": "light"
          },
          "paper_bgcolor": "white",
          "plot_bgcolor": "#E5ECF6",
          "polar": {
           "angularaxis": {
            "gridcolor": "white",
            "linecolor": "white",
            "ticks": ""
           },
           "bgcolor": "#E5ECF6",
           "radialaxis": {
            "gridcolor": "white",
            "linecolor": "white",
            "ticks": ""
           }
          },
          "scene": {
           "xaxis": {
            "backgroundcolor": "#E5ECF6",
            "gridcolor": "white",
            "gridwidth": 2,
            "linecolor": "white",
            "showbackground": true,
            "ticks": "",
            "zerolinecolor": "white"
           },
           "yaxis": {
            "backgroundcolor": "#E5ECF6",
            "gridcolor": "white",
            "gridwidth": 2,
            "linecolor": "white",
            "showbackground": true,
            "ticks": "",
            "zerolinecolor": "white"
           },
           "zaxis": {
            "backgroundcolor": "#E5ECF6",
            "gridcolor": "white",
            "gridwidth": 2,
            "linecolor": "white",
            "showbackground": true,
            "ticks": "",
            "zerolinecolor": "white"
           }
          },
          "shapedefaults": {
           "line": {
            "color": "#2a3f5f"
           }
          },
          "ternary": {
           "aaxis": {
            "gridcolor": "white",
            "linecolor": "white",
            "ticks": ""
           },
           "baxis": {
            "gridcolor": "white",
            "linecolor": "white",
            "ticks": ""
           },
           "bgcolor": "#E5ECF6",
           "caxis": {
            "gridcolor": "white",
            "linecolor": "white",
            "ticks": ""
           }
          },
          "title": {
           "x": 0.05
          },
          "xaxis": {
           "automargin": true,
           "gridcolor": "white",
           "linecolor": "white",
           "ticks": "",
           "title": {
            "standoff": 15
           },
           "zerolinecolor": "white",
           "zerolinewidth": 2
          },
          "yaxis": {
           "automargin": true,
           "gridcolor": "white",
           "linecolor": "white",
           "ticks": "",
           "title": {
            "standoff": 15
           },
           "zerolinecolor": "white",
           "zerolinewidth": 2
          }
         }
        }
       }
      },
      "text/html": [
       "<div>                            <div id=\"770147a4-5942-47da-a10c-fa87e896fc27\" class=\"plotly-graph-div\" style=\"height:525px; width:100%;\"></div>            <script type=\"text/javascript\">                require([\"plotly\"], function(Plotly) {                    window.PLOTLYENV=window.PLOTLYENV || {};                                    if (document.getElementById(\"770147a4-5942-47da-a10c-fa87e896fc27\")) {                    Plotly.newPlot(                        \"770147a4-5942-47da-a10c-fa87e896fc27\",                        [{\"hovertemplate\": \"Nom du Model=Van sloun Model (0.7_6_a15)<br>Pourcentage de Mb non pr\\u00e9dites=%{x}<br>Concentration=%{y}<br>Distance moyenne entre les Mb mal pr\\u00e9dites=%{z}<extra></extra>\", \"legendgroup\": \"Van sloun Model (0.7_6_a15)\", \"marker\": {\"color\": \"#636efa\", \"symbol\": \"circle\"}, \"mode\": \"markers\", \"name\": \"Van sloun Model (0.7_6_a15)\", \"scene\": \"scene\", \"showlegend\": true, \"type\": \"scatter3d\", \"x\": [18.29940476190476, 46.186474183543154, 63.00627535015981, 73.59623273017432, 82.96131623735677], \"y\": [4, 15, 30, 50, 100], \"z\": [1.3783394907645825, 1.6974790186154292, 1.6400602410593557, 1.5578059870349883, 1.3879458578269568]}],                        {\"legend\": {\"title\": {\"text\": \"Nom du Model\"}, \"tracegroupgap\": 0}, \"margin\": {\"t\": 60}, \"scene\": {\"domain\": {\"x\": [0.0, 1.0], \"y\": [0.0, 1.0]}, \"xaxis\": {\"title\": {\"text\": \"Pourcentage de Mb non pr\\u00e9dites\"}}, \"yaxis\": {\"title\": {\"text\": \"Concentration\"}}, \"zaxis\": {\"title\": {\"text\": \"Distance moyenne entre les Mb mal pr\\u00e9dites\"}}}, \"template\": {\"data\": {\"bar\": [{\"error_x\": {\"color\": \"#2a3f5f\"}, \"error_y\": {\"color\": \"#2a3f5f\"}, \"marker\": {\"line\": {\"color\": \"#E5ECF6\", \"width\": 0.5}}, \"type\": \"bar\"}], \"barpolar\": [{\"marker\": {\"line\": {\"color\": \"#E5ECF6\", \"width\": 0.5}}, \"type\": \"barpolar\"}], \"carpet\": [{\"aaxis\": {\"endlinecolor\": \"#2a3f5f\", \"gridcolor\": \"white\", \"linecolor\": \"white\", \"minorgridcolor\": \"white\", \"startlinecolor\": \"#2a3f5f\"}, \"baxis\": {\"endlinecolor\": \"#2a3f5f\", \"gridcolor\": \"white\", \"linecolor\": \"white\", \"minorgridcolor\": \"white\", \"startlinecolor\": \"#2a3f5f\"}, \"type\": \"carpet\"}], \"choropleth\": [{\"colorbar\": {\"outlinewidth\": 0, \"ticks\": \"\"}, \"type\": \"choropleth\"}], \"contour\": [{\"colorbar\": {\"outlinewidth\": 0, \"ticks\": \"\"}, \"colorscale\": [[0.0, \"#0d0887\"], [0.1111111111111111, \"#46039f\"], [0.2222222222222222, \"#7201a8\"], [0.3333333333333333, \"#9c179e\"], [0.4444444444444444, \"#bd3786\"], [0.5555555555555556, \"#d8576b\"], [0.6666666666666666, \"#ed7953\"], [0.7777777777777778, \"#fb9f3a\"], [0.8888888888888888, \"#fdca26\"], [1.0, \"#f0f921\"]], \"type\": \"contour\"}], \"contourcarpet\": [{\"colorbar\": {\"outlinewidth\": 0, \"ticks\": \"\"}, \"type\": \"contourcarpet\"}], \"heatmap\": [{\"colorbar\": {\"outlinewidth\": 0, \"ticks\": \"\"}, \"colorscale\": [[0.0, \"#0d0887\"], [0.1111111111111111, \"#46039f\"], [0.2222222222222222, \"#7201a8\"], [0.3333333333333333, \"#9c179e\"], [0.4444444444444444, \"#bd3786\"], [0.5555555555555556, \"#d8576b\"], [0.6666666666666666, \"#ed7953\"], [0.7777777777777778, \"#fb9f3a\"], [0.8888888888888888, \"#fdca26\"], [1.0, \"#f0f921\"]], \"type\": \"heatmap\"}], \"heatmapgl\": [{\"colorbar\": {\"outlinewidth\": 0, \"ticks\": \"\"}, \"colorscale\": [[0.0, \"#0d0887\"], [0.1111111111111111, \"#46039f\"], [0.2222222222222222, \"#7201a8\"], [0.3333333333333333, \"#9c179e\"], [0.4444444444444444, \"#bd3786\"], [0.5555555555555556, \"#d8576b\"], [0.6666666666666666, \"#ed7953\"], [0.7777777777777778, \"#fb9f3a\"], [0.8888888888888888, \"#fdca26\"], [1.0, \"#f0f921\"]], \"type\": \"heatmapgl\"}], \"histogram\": [{\"marker\": {\"colorbar\": {\"outlinewidth\": 0, \"ticks\": \"\"}}, \"type\": \"histogram\"}], \"histogram2d\": [{\"colorbar\": {\"outlinewidth\": 0, \"ticks\": \"\"}, \"colorscale\": [[0.0, \"#0d0887\"], [0.1111111111111111, \"#46039f\"], [0.2222222222222222, \"#7201a8\"], [0.3333333333333333, \"#9c179e\"], [0.4444444444444444, \"#bd3786\"], [0.5555555555555556, \"#d8576b\"], [0.6666666666666666, \"#ed7953\"], [0.7777777777777778, \"#fb9f3a\"], [0.8888888888888888, \"#fdca26\"], [1.0, \"#f0f921\"]], \"type\": \"histogram2d\"}], \"histogram2dcontour\": [{\"colorbar\": {\"outlinewidth\": 0, \"ticks\": \"\"}, \"colorscale\": [[0.0, \"#0d0887\"], [0.1111111111111111, \"#46039f\"], [0.2222222222222222, \"#7201a8\"], [0.3333333333333333, \"#9c179e\"], [0.4444444444444444, \"#bd3786\"], [0.5555555555555556, \"#d8576b\"], [0.6666666666666666, \"#ed7953\"], [0.7777777777777778, \"#fb9f3a\"], [0.8888888888888888, \"#fdca26\"], [1.0, \"#f0f921\"]], \"type\": \"histogram2dcontour\"}], \"mesh3d\": [{\"colorbar\": {\"outlinewidth\": 0, \"ticks\": \"\"}, \"type\": \"mesh3d\"}], \"parcoords\": [{\"line\": {\"colorbar\": {\"outlinewidth\": 0, \"ticks\": \"\"}}, \"type\": \"parcoords\"}], \"pie\": [{\"automargin\": true, \"type\": \"pie\"}], \"scatter\": [{\"marker\": {\"colorbar\": {\"outlinewidth\": 0, \"ticks\": \"\"}}, \"type\": \"scatter\"}], \"scatter3d\": [{\"line\": {\"colorbar\": {\"outlinewidth\": 0, \"ticks\": \"\"}}, \"marker\": {\"colorbar\": {\"outlinewidth\": 0, \"ticks\": \"\"}}, \"type\": \"scatter3d\"}], \"scattercarpet\": [{\"marker\": {\"colorbar\": {\"outlinewidth\": 0, \"ticks\": \"\"}}, \"type\": \"scattercarpet\"}], \"scattergeo\": [{\"marker\": {\"colorbar\": {\"outlinewidth\": 0, \"ticks\": \"\"}}, \"type\": \"scattergeo\"}], \"scattergl\": [{\"marker\": {\"colorbar\": {\"outlinewidth\": 0, \"ticks\": \"\"}}, \"type\": \"scattergl\"}], \"scattermapbox\": [{\"marker\": {\"colorbar\": {\"outlinewidth\": 0, \"ticks\": \"\"}}, \"type\": \"scattermapbox\"}], \"scatterpolar\": [{\"marker\": {\"colorbar\": {\"outlinewidth\": 0, \"ticks\": \"\"}}, \"type\": \"scatterpolar\"}], \"scatterpolargl\": [{\"marker\": {\"colorbar\": {\"outlinewidth\": 0, \"ticks\": \"\"}}, \"type\": \"scatterpolargl\"}], \"scatterternary\": [{\"marker\": {\"colorbar\": {\"outlinewidth\": 0, \"ticks\": \"\"}}, \"type\": \"scatterternary\"}], \"surface\": [{\"colorbar\": {\"outlinewidth\": 0, \"ticks\": \"\"}, \"colorscale\": [[0.0, \"#0d0887\"], [0.1111111111111111, \"#46039f\"], [0.2222222222222222, \"#7201a8\"], [0.3333333333333333, \"#9c179e\"], [0.4444444444444444, \"#bd3786\"], [0.5555555555555556, \"#d8576b\"], [0.6666666666666666, \"#ed7953\"], [0.7777777777777778, \"#fb9f3a\"], [0.8888888888888888, \"#fdca26\"], [1.0, \"#f0f921\"]], \"type\": \"surface\"}], \"table\": [{\"cells\": {\"fill\": {\"color\": \"#EBF0F8\"}, \"line\": {\"color\": \"white\"}}, \"header\": {\"fill\": {\"color\": \"#C8D4E3\"}, \"line\": {\"color\": \"white\"}}, \"type\": \"table\"}]}, \"layout\": {\"annotationdefaults\": {\"arrowcolor\": \"#2a3f5f\", \"arrowhead\": 0, \"arrowwidth\": 1}, \"autotypenumbers\": \"strict\", \"coloraxis\": {\"colorbar\": {\"outlinewidth\": 0, \"ticks\": \"\"}}, \"colorscale\": {\"diverging\": [[0, \"#8e0152\"], [0.1, \"#c51b7d\"], [0.2, \"#de77ae\"], [0.3, \"#f1b6da\"], [0.4, \"#fde0ef\"], [0.5, \"#f7f7f7\"], [0.6, \"#e6f5d0\"], [0.7, \"#b8e186\"], [0.8, \"#7fbc41\"], [0.9, \"#4d9221\"], [1, \"#276419\"]], \"sequential\": [[0.0, \"#0d0887\"], [0.1111111111111111, \"#46039f\"], [0.2222222222222222, \"#7201a8\"], [0.3333333333333333, \"#9c179e\"], [0.4444444444444444, \"#bd3786\"], [0.5555555555555556, \"#d8576b\"], [0.6666666666666666, \"#ed7953\"], [0.7777777777777778, \"#fb9f3a\"], [0.8888888888888888, \"#fdca26\"], [1.0, \"#f0f921\"]], \"sequentialminus\": [[0.0, \"#0d0887\"], [0.1111111111111111, \"#46039f\"], [0.2222222222222222, \"#7201a8\"], [0.3333333333333333, \"#9c179e\"], [0.4444444444444444, \"#bd3786\"], [0.5555555555555556, \"#d8576b\"], [0.6666666666666666, \"#ed7953\"], [0.7777777777777778, \"#fb9f3a\"], [0.8888888888888888, \"#fdca26\"], [1.0, \"#f0f921\"]]}, \"colorway\": [\"#636efa\", \"#EF553B\", \"#00cc96\", \"#ab63fa\", \"#FFA15A\", \"#19d3f3\", \"#FF6692\", \"#B6E880\", \"#FF97FF\", \"#FECB52\"], \"font\": {\"color\": \"#2a3f5f\"}, \"geo\": {\"bgcolor\": \"white\", \"lakecolor\": \"white\", \"landcolor\": \"#E5ECF6\", \"showlakes\": true, \"showland\": true, \"subunitcolor\": \"white\"}, \"hoverlabel\": {\"align\": \"left\"}, \"hovermode\": \"closest\", \"mapbox\": {\"style\": \"light\"}, \"paper_bgcolor\": \"white\", \"plot_bgcolor\": \"#E5ECF6\", \"polar\": {\"angularaxis\": {\"gridcolor\": \"white\", \"linecolor\": \"white\", \"ticks\": \"\"}, \"bgcolor\": \"#E5ECF6\", \"radialaxis\": {\"gridcolor\": \"white\", \"linecolor\": \"white\", \"ticks\": \"\"}}, \"scene\": {\"xaxis\": {\"backgroundcolor\": \"#E5ECF6\", \"gridcolor\": \"white\", \"gridwidth\": 2, \"linecolor\": \"white\", \"showbackground\": true, \"ticks\": \"\", \"zerolinecolor\": \"white\"}, \"yaxis\": {\"backgroundcolor\": \"#E5ECF6\", \"gridcolor\": \"white\", \"gridwidth\": 2, \"linecolor\": \"white\", \"showbackground\": true, \"ticks\": \"\", \"zerolinecolor\": \"white\"}, \"zaxis\": {\"backgroundcolor\": \"#E5ECF6\", \"gridcolor\": \"white\", \"gridwidth\": 2, \"linecolor\": \"white\", \"showbackground\": true, \"ticks\": \"\", \"zerolinecolor\": \"white\"}}, \"shapedefaults\": {\"line\": {\"color\": \"#2a3f5f\"}}, \"ternary\": {\"aaxis\": {\"gridcolor\": \"white\", \"linecolor\": \"white\", \"ticks\": \"\"}, \"baxis\": {\"gridcolor\": \"white\", \"linecolor\": \"white\", \"ticks\": \"\"}, \"bgcolor\": \"#E5ECF6\", \"caxis\": {\"gridcolor\": \"white\", \"linecolor\": \"white\", \"ticks\": \"\"}}, \"title\": {\"x\": 0.05}, \"xaxis\": {\"automargin\": true, \"gridcolor\": \"white\", \"linecolor\": \"white\", \"ticks\": \"\", \"title\": {\"standoff\": 15}, \"zerolinecolor\": \"white\", \"zerolinewidth\": 2}, \"yaxis\": {\"automargin\": true, \"gridcolor\": \"white\", \"linecolor\": \"white\", \"ticks\": \"\", \"title\": {\"standoff\": 15}, \"zerolinecolor\": \"white\", \"zerolinewidth\": 2}}}},                        {\"responsive\": true}                    ).then(function(){\n",
       "                            \n",
       "var gd = document.getElementById('770147a4-5942-47da-a10c-fa87e896fc27');\n",
       "var x = new MutationObserver(function (mutations, observer) {{\n",
       "        var display = window.getComputedStyle(gd).display;\n",
       "        if (!display || display === 'none') {{\n",
       "            console.log([gd, 'removed!']);\n",
       "            Plotly.purge(gd);\n",
       "            observer.disconnect();\n",
       "        }}\n",
       "}});\n",
       "\n",
       "// Listen for the removal of the full notebook cells\n",
       "var notebookContainer = gd.closest('#notebook-container');\n",
       "if (notebookContainer) {{\n",
       "    x.observe(notebookContainer, {childList: true});\n",
       "}}\n",
       "\n",
       "// Listen for the clearing of the current output cell\n",
       "var outputEl = gd.closest('.output');\n",
       "if (outputEl) {{\n",
       "    x.observe(outputEl, {childList: true});\n",
       "}}\n",
       "\n",
       "                        })                };                });            </script>        </div>"
      ]
     },
     "metadata": {},
     "output_type": "display_data"
    }
   ],
   "source": [
    "# Plot the 3D graph with the parameter wanted\n",
    "import plotly.express as px \n",
    "\n",
    "# fig = px.scatter_3d(df_plot, x = 'SNR', y = 'Concentration', z = 'Pourcentage de Mb bien prédites', color = 'Nom du Model')\n",
    "fig = px.scatter_3d(data_3, x = 'Pourcentage de Mb non prédites', y = 'Concentration', z = 'Distance moyenne entre les Mb mal prédites', color = 'Nom du Model')\n",
    "fig.show()"
   ]
  },
  {
   "cell_type": "markdown",
   "id": "f03873a6",
   "metadata": {},
   "source": [
    "# Clean the memory"
   ]
  },
  {
   "cell_type": "code",
   "execution_count": null,
   "id": "d786c3fc",
   "metadata": {},
   "outputs": [],
   "source": [
    "# del model"
   ]
  },
  {
   "cell_type": "code",
   "execution_count": 164,
   "id": "4c240319",
   "metadata": {},
   "outputs": [
    {
     "name": "stdout",
     "output_type": "stream",
     "text": [
      "2541748224\n",
      "859782144\n",
      "| ID | GPU | MEM |\n",
      "------------------\n",
      "|  0 |  0% | 90% |\n",
      "None\n",
      "868220928\n",
      "859782144\n",
      "| ID | GPU | MEM |\n",
      "------------------\n",
      "|  0 | 37% | 51% |\n"
     ]
    }
   ],
   "source": [
    "import GPUtil\n",
    "import gc\n",
    "print(torch.cuda.memory_reserved())\n",
    "print(torch.cuda.memory_allocated())\n",
    "GPUtil.showUtilization()\n",
    "gc.collect()\n",
    "torch.cuda.empty_cache()\n",
    "print(torch.cuda.empty_cache())\n",
    "print(torch.cuda.memory_reserved())\n",
    "print(torch.cuda.memory_allocated())\n",
    "GPUtil.showUtilization()"
   ]
  }
 ],
 "metadata": {
  "kernelspec": {
   "display_name": "Python 3",
   "language": "python",
   "name": "python3"
  }
 },
 "nbformat": 4,
 "nbformat_minor": 5
}
